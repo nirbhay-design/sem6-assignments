{
  "cells": [
    {
      "cell_type": "code",
      "execution_count": 12,
      "metadata": {
        "id": "RWIK-DBPlk4F"
      },
      "outputs": [],
      "source": [
        "import torch\n",
        "import torchvision\n",
        "import torch.nn as nn\n",
        "import torch.nn.functional as F\n",
        "import torchvision.transforms as transforms\n",
        "from torch.utils.data import DataLoader\n",
        "import numpy as np\n",
        "import torch.optim as optim\n",
        "import random\n",
        "import time\n",
        "import os\n",
        "from PIL import Image\n",
        "import matplotlib.pyplot as plt\n",
        "from sklearn.metrics import roc_auc_score,precision_recall_fscore_support,auc\n",
        "from sklearn.preprocessing import label_binarize\n",
        "import warnings\n",
        "warnings.filterwarnings('ignore')"
      ]
    },
    {
      "cell_type": "code",
      "source": [
        "from google.colab import drive\n",
        "drive.mount('/content/gdrive')"
      ],
      "metadata": {
        "colab": {
          "base_uri": "https://localhost:8080/"
        },
        "id": "67if8HvrqWT5",
        "outputId": "7e104110-ef83-476c-8b6d-4cc279caa169"
      },
      "execution_count": 2,
      "outputs": [
        {
          "output_type": "stream",
          "name": "stdout",
          "text": [
            "Mounted at /content/gdrive\n"
          ]
        }
      ]
    },
    {
      "cell_type": "code",
      "source": [
        "path = \"/content/gdrive/MyDrive/MaskNomaskdataset/tiny-imagenet-200.zip\"\n",
        "import zipfile\n",
        "with zipfile.ZipFile(path, 'r') as zip_ref:\n",
        "    zip_ref.extractall('/content/tinyimgnet')"
      ],
      "metadata": {
        "id": "q1jbcQT9qqwm"
      },
      "execution_count": 3,
      "outputs": []
    },
    {
      "cell_type": "code",
      "source": [
        "config = dict(\n",
        "    train_data = \"/content/tinyimgnet/tiny-imagenet-200/train\",\n",
        "    test_data = \"/content/tinyimgnet/tiny-imagenet-200/val/images\",\n",
        "    test_anno=\"/content/tinyimgnet/tiny-imagenet-200/val/val_annotations.txt\",\n",
        "    wnids = \"/content/tinyimgnet/tiny-imagenet-200/wnids.txt\",\n",
        "    lr = 0.001,\n",
        "    EPOCHS = 10,\n",
        "    BATCH_SIZE = 32,\n",
        "    IMAGE_SIZE = 64,\n",
        "    pin_memory = True,\n",
        "    num_workers = 2,\n",
        "    SEED = 42,\n",
        "    GPU_ID=0,\n",
        "    val_split = 0.2\n",
        ")"
      ],
      "metadata": {
        "id": "m7pCBtuNVf6E"
      },
      "execution_count": 21,
      "outputs": []
    },
    {
      "cell_type": "code",
      "source": [
        "class CustomTestDataset():\n",
        "  def __init__(self,img_path):\n",
        "    self.img_path = img_path\n",
        "    with open(config['wnids']) as f:\n",
        "      self.wnids = f.read().split('\\n')\n",
        "      self.wnids.remove('')\n",
        "\n",
        "    with open(config['test_anno']) as f:\n",
        "      self.test_anno = list(map(lambda x:x.split('\\t')[:2],f.read().split(\"\\n\")))\n",
        "      self.test_anno.remove([''])\n",
        "\n",
        "    self.wnids = sorted(self.wnids,key = lambda x:x)\n",
        "    self.mapping = dict(list(zip(self.wnids,list(range(200)))))\n",
        "    # self.rev_mapping = {j:i for i,j in self.mapping.items()}\n",
        "    self.transformations = transforms.ToTensor()\n",
        "\n",
        "  def __len__(self):\n",
        "    return len(self.test_anno)\n",
        "\n",
        "  def __getitem__(self,idx):\n",
        "    test_img, class_name = self.test_anno[idx]\n",
        "    cls_idx = self.mapping.get(class_name,-1)\n",
        "    \n",
        "    img = Image.open(os.path.join(config['test_data'],test_img)).convert('RGB')\n",
        "    img = self.transformations(img)\n",
        "    return (img,cls_idx)\n",
        "\n",
        "class CustomTrainDataset():\n",
        "  def __init__(self,img_path):\n",
        "    self.img_path = img_path\n",
        "    with open(config['wnids']) as f:\n",
        "      self.wnids = f.read().split('\\n')\n",
        "      self.wnids.remove('')\n",
        "    self.wnids = sorted(self.wnids,key = lambda x:x)\n",
        "    self.mapping = dict(list(zip(self.wnids,list(range(200)))))\n",
        "\n",
        "    img_class = os.listdir(self.img_path)\n",
        "    self.img_map = []\n",
        "    for clss in img_class:\n",
        "      cls_imgs = os.listdir(os.path.join(self.img_path,clss,'images'))\n",
        "      clss_imgs = list(map(lambda x:[clss,x],cls_imgs))\n",
        "      self.img_map.extend(clss_imgs)\n",
        "    \n",
        "    self.transformations = transforms.ToTensor()\n",
        "  def __len__(self):\n",
        "    return len(self.img_map)\n",
        "\n",
        "  def __getitem__(self,idx):\n",
        "    class_image,image_name = self.img_map[idx]\n",
        "    cls_idx = self.mapping.get(class_image,-1)\n",
        "\n",
        "    img = Image.open(os.path.join(self.img_path,class_image,'images',image_name)).convert('RGB')\n",
        "    img = self.transformations(img)\n",
        "\n",
        "    return (img,cls_idx)\n",
        "# ctd = CustomTestDataset(config['test_data'])\n",
        "# test_loader = torch.utils.data.DataLoader(ctd,batch_size=config['BATCH_SIZE'],shuffle=True,num_workers=config['num_workers'],pin_memory=config['pin_memory'])\n",
        "# cTd = CustomTrainDataset(config['train_data'])\n",
        "# print(len(cTd))\n",
        "# train_loader = torch.utils.data.DataLoader(cTd,batch_size=config['BATCH_SIZE'],shuffle=True,num_workers=config['num_workers'],pin_memory=config['pin_memory'])\n"
      ],
      "metadata": {
        "id": "U2wB3SGYVFjV"
      },
      "execution_count": 22,
      "outputs": []
    },
    {
      "cell_type": "code",
      "execution_count": 23,
      "metadata": {
        "id": "vWeOYjAdlpiD",
        "colab": {
          "base_uri": "https://localhost:8080/"
        },
        "outputId": "e463ed9b-1a5b-44d1-8e02-3ebe899f6b05"
      },
      "outputs": [
        {
          "output_type": "stream",
          "name": "stdout",
          "text": [
            "cuda:0\n"
          ]
        }
      ],
      "source": [
        "\n",
        "device = torch.device(f'cuda:{config[\"GPU_ID\"]}' if torch.cuda.is_available() else 'cpu')\n",
        "print(device)\n",
        "\n",
        "config['DEVICE'] = device\n",
        "\n",
        "torch.manual_seed(config['SEED'])\n",
        "torch.cuda.manual_seed(config['SEED'])\n",
        "\n",
        "\n",
        "transformations = {\n",
        "  'train':torchvision.transforms.Compose([\n",
        "          torchvision.transforms.Normalize([0.485, 0.456, 0.406], [0.229, 0.224, 0.225])\n",
        "  ]),\n",
        "  'test':torchvision.transforms.Compose([\n",
        "          torchvision.transforms.Normalize([0.485, 0.456, 0.406], [0.229, 0.224, 0.225])\n",
        "  ]),\n",
        "}\n",
        "\n",
        "os.environ[\"CUDA_DEVICE_ORDER\"]=\"PCI_BUS_ID\"  \n",
        "# os.environ[\"CUDA_VISIBLE_DEVICES\"]=\"2\"\n",
        "\n",
        "torch.backends.cudnn.benchmarks = True\n",
        "torch.backends.cudnn.deterministic = True\n",
        "torch.backends.cuda.matmul.allow_tf32 = True\n",
        "torch.backends.cudnn.allow_tf32 = True"
      ]
    },
    {
      "cell_type": "code",
      "source": [
        "def get_params(model):\n",
        "  par = 0\n",
        "  for params in model.parameters():\n",
        "    if (params.requires_grad == True):\n",
        "      par += params.numel()\n",
        "  return par\n",
        "\n",
        "class D_ce(nn.Module):\n",
        "  def __init__(self,num_class=200):\n",
        "    super(D_ce,self).__init__()\n",
        "    self.n_class = num_class\n",
        "    self.dnet = torchvision.models.densenet121(pretrained=True)\n",
        "    self.dnet.classifier = nn.Linear(1024,self.n_class)\n",
        "    print(get_params(self.dnet))\n",
        "\n",
        "    for name,params in self.dnet.named_parameters():\n",
        "      if (name == \"features.denseblock4.denselayer16.norm1.weight\"):\n",
        "        break\n",
        "      params.requires_grad = False\n",
        "\n",
        "    print(get_params(self.dnet))\n",
        "\n",
        "  def forward(self,x):\n",
        "    x = self.dnet(x)\n",
        "    return x\n",
        "\n"
      ],
      "metadata": {
        "id": "j0JbgVlImD3b"
      },
      "execution_count": 24,
      "outputs": []
    },
    {
      "cell_type": "code",
      "source": [
        "def train(model,train_load,lossfunction,optimizer,n_epochs=200):\n",
        "    tval = {'trainacc':[],\"trainloss\":[]}\n",
        "    starttime = time.time()\n",
        "    for epochs in range(n_epochs):\n",
        "        model.train()\n",
        "        cur_loss = 0\n",
        "        curacc = 0\n",
        "        len_train = len(train_load)\n",
        "        for idx , (data,target) in enumerate(train_load):\n",
        "            data = transformations['train'](data)    \n",
        "            data = data.to(device)\n",
        "            target = target.to(device)\n",
        "            # model = model.to(device)\n",
        "\n",
        "            scores = model(data)    \n",
        "            loss = lossfunction(scores,target)\n",
        "            cur_loss += loss.item() / (len_train)\n",
        "            scores = F.softmax(scores,dim = 1)\n",
        "            _,predicted = torch.max(scores,dim = 1)\n",
        "            correct = (predicted == target).sum()\n",
        "            samples = scores.shape[0]\n",
        "            curacc += correct / (samples * len_train)\n",
        "\n",
        "            optimizer.zero_grad()\n",
        "            loss.backward()\n",
        "            optimizer.step()\n",
        "\n",
        "            print('TrainBatchDone:{:d}'.format(idx),end='\\r') \n",
        "  \n",
        "        tval['trainacc'].append(float(curacc))\n",
        "        tval['trainloss'].append(float(cur_loss))\n",
        "      \n",
        "        print('epoch:[{:d}/{:d}], TrainAcc:{:.3f}, TrainLoss:{:.3f}'.format(epochs+1,n_epochs,curacc,cur_loss)) \n",
        "\n",
        "    time2 = time.time() - starttime\n",
        "    print('done time {:.3f} Mins'.format(time2/60))\n",
        "    return tval\n",
        "\n",
        "def evaluate(model,loader,name='test'):\n",
        "  model.eval()\n",
        "  correct = 0;samples =0\n",
        "  pre_prob = []\n",
        "  lab = []\n",
        "  predicted_labels = []\n",
        "\n",
        "  with torch.no_grad():\n",
        "      for idx,(x,y) in enumerate(loader):\n",
        "          x = transformations['test'](x)\n",
        "          x = x.to(device)\n",
        "          y = y.to(device)\n",
        "          # model = model.to(device)\n",
        "\n",
        "          scores = model(x)\n",
        "          predict_prob = F.softmax(scores)\n",
        "          _,predictions = predict_prob.max(1)\n",
        "\n",
        "          predictions = predictions.to('cpu')\n",
        "          y = y.to('cpu')\n",
        "          predict_prob = predict_prob.to('cpu')\n",
        "\n",
        "          predicted_labels.extend(list(predictions.numpy()))\n",
        "          pre_prob.extend(list(predict_prob.numpy()))\n",
        "          lab.extend(list(y.numpy()))\n",
        "\n",
        "          correct += (predictions == y).sum()\n",
        "          samples += predictions.size(0)\n",
        "\n",
        "          print('batches done : ',idx,end='\\r')\n",
        "      \n",
        "      print(f'correct are {correct/samples:.3f}')\n",
        "      \n",
        "  model.train()\n",
        "  return np.array(lab),np.array(predicted_labels),np.array(pre_prob)\n",
        "\n",
        "def plot_loss_acc(tval):\n",
        "  plt.figure(figsize=(5,4))\n",
        "  plt.plot(list(range(1,config['EPOCHS']+1)),tval['trainloss'],label='loss')\n",
        "  plt.plot(list(range(1,config['EPOCHS']+1)),tval['trainacc'],label='accuracy')\n",
        "  plt.xlabel('epochs')\n",
        "  plt.ylabel('loss/accuracy')\n",
        "  plt.title('loss_accuracy')\n",
        "  plt.legend()\n",
        "  plt.savefig('loss_acc_2b.svg',format='svg')\n",
        "  plt.show()"
      ],
      "metadata": {
        "id": "tl0VhL8nm0SL"
      },
      "execution_count": 44,
      "outputs": []
    },
    {
      "cell_type": "code",
      "source": [
        "ctd = CustomTestDataset(config['test_data'])\n",
        "test_loader = torch.utils.data.DataLoader(ctd,batch_size=config['BATCH_SIZE'],shuffle=True,num_workers=config['num_workers'],pin_memory=config['pin_memory'])\n",
        "cTd = CustomTrainDataset(config['train_data'])\n",
        "train_set,_ = torch.utils.data.dataset.random_split(cTd,[50000,50000])\n",
        "train_loader = torch.utils.data.DataLoader(cTd,batch_size=config['BATCH_SIZE'],shuffle=True,num_workers=config['num_workers'],pin_memory=config['pin_memory'])\n"
      ],
      "metadata": {
        "id": "j1rO-aoHgspA"
      },
      "execution_count": 29,
      "outputs": []
    },
    {
      "cell_type": "code",
      "source": [
        "dnet = D_ce()\n",
        "dnet = dnet.to(device)\n",
        "\n",
        "lossfunction = nn.CrossEntropyLoss()\n",
        "optimizer = optim.Adam(dnet.parameters(),lr=config['lr'])\n",
        "history = train(dnet,train_loader,lossfunction,optimizer,n_epochs=config['EPOCHS'])\n",
        "# print(dnet(torch.rand(2,3,64,64).to(device)).shape)"
      ],
      "metadata": {
        "id": "Mzi9zrbOmrXX",
        "colab": {
          "base_uri": "https://localhost:8080/"
        },
        "outputId": "7e02c11e-d9cc-4122-b7df-3f3c4a552c2e"
      },
      "execution_count": 31,
      "outputs": [
        {
          "output_type": "stream",
          "name": "stdout",
          "text": [
            "7158856\n",
            "373128\n",
            "epoch:[1/10], TrainAcc:0.340, TrainLoss:2.913\n",
            "epoch:[2/10], TrainAcc:0.441, TrainLoss:2.319\n",
            "epoch:[3/10], TrainAcc:0.478, TrainLoss:2.126\n",
            "epoch:[4/10], TrainAcc:0.500, TrainLoss:2.000\n",
            "epoch:[5/10], TrainAcc:0.517, TrainLoss:1.916\n",
            "epoch:[6/10], TrainAcc:0.531, TrainLoss:1.848\n",
            "epoch:[7/10], TrainAcc:0.542, TrainLoss:1.790\n",
            "epoch:[8/10], TrainAcc:0.551, TrainLoss:1.747\n",
            "epoch:[9/10], TrainAcc:0.559, TrainLoss:1.708\n",
            "epoch:[10/10], TrainAcc:0.565, TrainLoss:1.680\n",
            "done time 28.241 Mins\n"
          ]
        }
      ]
    },
    {
      "cell_type": "code",
      "source": [
        "y_true,y_pred,pred_prob = evaluate(dnet,test_loader)"
      ],
      "metadata": {
        "id": "oLAYP83ioLHV",
        "colab": {
          "base_uri": "https://localhost:8080/"
        },
        "outputId": "02803d78-fced-4a54-d104-e4fe2443bb3b"
      },
      "execution_count": 34,
      "outputs": [
        {
          "output_type": "stream",
          "name": "stdout",
          "text": [
            "correct are 0.478\n"
          ]
        }
      ]
    },
    {
      "cell_type": "code",
      "source": [
        "precision,recall,f_score,_ = precision_recall_fscore_support(y_true,y_pred)"
      ],
      "metadata": {
        "id": "l7FRyL4SoZri"
      },
      "execution_count": 35,
      "outputs": []
    },
    {
      "cell_type": "code",
      "source": [
        "print(precision)\n",
        "    "
      ],
      "metadata": {
        "id": "3r46HUrso2CH",
        "colab": {
          "base_uri": "https://localhost:8080/"
        },
        "outputId": "46d69898-03a9-430e-b4d7-48497f7661fa"
      },
      "execution_count": 36,
      "outputs": [
        {
          "output_type": "stream",
          "name": "stdout",
          "text": [
            "[0.74074074 0.58928571 0.4047619  0.25252525 0.43396226 0.22619048\n",
            " 0.65957447 0.51612903 0.78571429 0.63636364 0.43181818 0.52307692\n",
            " 0.6097561  0.8        0.67307692 0.43137255 0.35483871 0.53448276\n",
            " 0.34920635 0.58823529 0.59090909 0.81818182 0.63461538 0.76470588\n",
            " 0.40425532 0.49315068 0.52727273 0.44       0.54761905 0.51851852\n",
            " 0.3        0.70588235 0.61538462 0.36363636 0.47272727 0.575\n",
            " 0.65217391 0.52272727 0.54166667 0.24528302 0.29411765 0.45\n",
            " 0.2962963  0.4        0.66666667 0.68965517 0.55357143 0.59259259\n",
            " 0.5        0.45454545 0.59677419 0.55555556 0.57692308 0.53333333\n",
            " 0.49152542 0.54545455 0.51351351 0.65853659 0.68627451 0.49122807\n",
            " 0.51785714 0.56818182 0.35416667 0.46666667 0.39130435 0.21666667\n",
            " 0.57894737 0.43333333 0.32631579 0.25974026 0.28888889 0.76666667\n",
            " 0.39344262 0.43333333 0.34848485 0.57894737 0.52941176 0.5\n",
            " 0.609375   0.31147541 0.4047619  0.77192982 0.35064935 0.4\n",
            " 0.54166667 0.39473684 0.6969697  0.44       0.36363636 0.48148148\n",
            " 0.53571429 0.42465753 0.79310345 0.475      0.40909091 0.76923077\n",
            " 0.46808511 0.41269841 0.55319149 0.26923077 0.38095238 0.68085106\n",
            " 0.37254902 0.73333333 0.26213592 0.28125    0.23376623 0.64\n",
            " 0.55882353 0.4375     0.6744186  0.42105263 0.21052632 0.35714286\n",
            " 0.61904762 0.77083333 0.5        0.64444444 0.46376812 0.3030303\n",
            " 0.25641026 0.58695652 0.22522523 0.55555556 0.55384615 0.42307692\n",
            " 0.53658537 0.51923077 0.36486486 0.57142857 0.4        0.08064516\n",
            " 0.25806452 0.68181818 0.41304348 0.26666667 0.34375    0.30769231\n",
            " 0.2345679  0.34615385 0.62790698 0.57575758 0.47222222 0.71428571\n",
            " 0.41509434 0.70967742 0.7254902  0.33898305 0.375      0.59183673\n",
            " 0.55       0.4516129  0.51470588 0.45       0.49152542 0.61290323\n",
            " 0.66666667 0.37837838 0.30645161 0.28125    0.425      0.62162162\n",
            " 0.56818182 0.39215686 0.41025641 0.77272727 0.76923077 0.40425532\n",
            " 0.27906977 0.49019608 0.62790698 0.60714286 0.52941176 0.90625\n",
            " 0.43181818 0.66666667 0.625      0.34246575 0.59615385 0.32258065\n",
            " 0.32075472 0.74193548 0.68181818 0.58333333 0.47435897 0.62222222\n",
            " 0.63157895 0.58536585 0.68421053 0.78378378 0.32307692 0.75675676\n",
            " 0.44578313 0.7755102  0.57777778 0.4        0.50684932 0.32142857\n",
            " 0.47727273 0.4       ]\n"
          ]
        }
      ]
    },
    {
      "cell_type": "code",
      "source": [
        "print(recall)"
      ],
      "metadata": {
        "colab": {
          "base_uri": "https://localhost:8080/"
        },
        "id": "ONmpVQhFo7ft",
        "outputId": "57254022-49f8-4831-c232-af5a7dbfc2c1"
      },
      "execution_count": 37,
      "outputs": [
        {
          "output_type": "stream",
          "name": "stdout",
          "text": [
            "[0.8  0.66 0.34 0.5  0.46 0.38 0.62 0.32 0.66 0.28 0.38 0.68 0.5  0.72\n",
            " 0.7  0.44 0.22 0.62 0.44 0.6  0.52 0.72 0.66 0.78 0.38 0.72 0.58 0.22\n",
            " 0.46 0.28 0.36 0.48 0.16 0.4  0.52 0.46 0.6  0.46 0.52 0.52 0.2  0.36\n",
            " 0.32 0.36 0.68 0.8  0.62 0.64 0.28 0.3  0.74 0.4  0.6  0.48 0.58 0.6\n",
            " 0.38 0.54 0.7  0.56 0.58 0.5  0.34 0.56 0.36 0.26 0.44 0.26 0.62 0.4\n",
            " 0.52 0.46 0.48 0.52 0.46 0.44 0.36 0.22 0.78 0.38 0.34 0.88 0.54 0.4\n",
            " 0.26 0.6  0.46 0.44 0.4  0.52 0.6  0.62 0.46 0.38 0.18 0.4  0.44 0.52\n",
            " 0.52 0.28 0.32 0.64 0.38 0.66 0.54 0.18 0.36 0.64 0.76 0.56 0.58 0.64\n",
            " 0.32 0.5  0.26 0.74 0.28 0.58 0.64 0.2  0.2  0.54 0.5  0.2  0.72 0.22\n",
            " 0.44 0.54 0.54 0.56 0.52 0.1  0.16 0.6  0.38 0.08 0.44 0.4  0.38 0.18\n",
            " 0.54 0.38 0.34 0.8  0.44 0.88 0.74 0.4  0.54 0.58 0.44 0.28 0.7  0.54\n",
            " 0.58 0.38 0.44 0.56 0.38 0.18 0.34 0.46 0.5  0.4  0.64 0.68 0.6  0.38\n",
            " 0.24 0.5  0.54 0.34 0.18 0.58 0.38 0.16 0.6  0.5  0.62 0.4  0.34 0.46\n",
            " 0.3  0.42 0.74 0.56 0.72 0.48 0.52 0.58 0.42 0.56 0.74 0.76 0.52 0.56\n",
            " 0.74 0.36 0.42 0.4 ]\n"
          ]
        }
      ]
    },
    {
      "cell_type": "code",
      "source": [
        "print(f_score)"
      ],
      "metadata": {
        "colab": {
          "base_uri": "https://localhost:8080/"
        },
        "id": "2R1Bj29Lo9mq",
        "outputId": "0d33c676-5db6-4540-920f-7d07376a9d30"
      },
      "execution_count": 39,
      "outputs": [
        {
          "output_type": "stream",
          "name": "stdout",
          "text": [
            "[0.76923077 0.62264151 0.36956522 0.33557047 0.44660194 0.28358209\n",
            " 0.63917526 0.39506173 0.7173913  0.38888889 0.40425532 0.59130435\n",
            " 0.54945055 0.75789474 0.68627451 0.43564356 0.27160494 0.57407407\n",
            " 0.38938053 0.59405941 0.55319149 0.76595745 0.64705882 0.77227723\n",
            " 0.39175258 0.58536585 0.55238095 0.29333333 0.5        0.36363636\n",
            " 0.32727273 0.57142857 0.25396825 0.38095238 0.4952381  0.51111111\n",
            " 0.625      0.4893617  0.53061224 0.33333333 0.23809524 0.4\n",
            " 0.30769231 0.37894737 0.67326733 0.74074074 0.58490566 0.61538462\n",
            " 0.35897436 0.36144578 0.66071429 0.46511628 0.58823529 0.50526316\n",
            " 0.53211009 0.57142857 0.43678161 0.59340659 0.69306931 0.52336449\n",
            " 0.54716981 0.53191489 0.34693878 0.50909091 0.375      0.23636364\n",
            " 0.5        0.325      0.42758621 0.31496063 0.37142857 0.575\n",
            " 0.43243243 0.47272727 0.39655172 0.5        0.42857143 0.30555556\n",
            " 0.68421053 0.34234234 0.36956522 0.82242991 0.42519685 0.4\n",
            " 0.35135135 0.47619048 0.55421687 0.44       0.38095238 0.5\n",
            " 0.56603774 0.50406504 0.58227848 0.42222222 0.25       0.52631579\n",
            " 0.45360825 0.46017699 0.53608247 0.2745098  0.34782609 0.65979381\n",
            " 0.37623762 0.69473684 0.35294118 0.2195122  0.28346457 0.64\n",
            " 0.6440678  0.49122807 0.62365591 0.50793651 0.25396825 0.41666667\n",
            " 0.36619718 0.75510204 0.35897436 0.61052632 0.53781513 0.24096386\n",
            " 0.2247191  0.5625     0.31055901 0.29411765 0.62608696 0.28947368\n",
            " 0.48351648 0.52941176 0.43548387 0.56565657 0.45217391 0.08928571\n",
            " 0.19753086 0.63829787 0.39583333 0.12307692 0.38596491 0.34782609\n",
            " 0.29007634 0.23684211 0.58064516 0.45783133 0.39534884 0.75471698\n",
            " 0.42718447 0.78571429 0.73267327 0.36697248 0.44262295 0.58585859\n",
            " 0.48888889 0.34567901 0.59322034 0.49090909 0.53211009 0.4691358\n",
            " 0.53012048 0.4516129  0.33928571 0.2195122  0.37777778 0.52873563\n",
            " 0.53191489 0.3960396  0.5        0.72340426 0.6741573  0.39175258\n",
            " 0.25806452 0.4950495  0.58064516 0.43589744 0.26865672 0.70731707\n",
            " 0.40425532 0.25806452 0.6122449  0.40650407 0.60784314 0.35714286\n",
            " 0.33009709 0.56790123 0.41666667 0.48837209 0.578125   0.58947368\n",
            " 0.6728972  0.52747253 0.59090909 0.66666667 0.36521739 0.64367816\n",
            " 0.55639098 0.76767677 0.54736842 0.46666667 0.60162602 0.33962264\n",
            " 0.44680851 0.4       ]\n"
          ]
        }
      ]
    },
    {
      "cell_type": "code",
      "source": [
        "print(f'precision: {np.array(precision).mean():.3f}')\n",
        "print(f'recall: {np.array(recall).mean():.3f}')\n",
        "print(f'f_score: {np.array(f_score).mean():.3f}')"
      ],
      "metadata": {
        "colab": {
          "base_uri": "https://localhost:8080/"
        },
        "id": "XsRLgyEzpA-2",
        "outputId": "5b95419d-3d10-4f7c-83fc-45ead8452c65"
      },
      "execution_count": 42,
      "outputs": [
        {
          "output_type": "stream",
          "name": "stdout",
          "text": [
            "precision: 0.501\n",
            "recall: 0.478\n",
            "f_score: 0.476\n"
          ]
        }
      ]
    },
    {
      "cell_type": "code",
      "source": [
        "plot_loss_acc(history)"
      ],
      "metadata": {
        "colab": {
          "base_uri": "https://localhost:8080/",
          "height": 295
        },
        "id": "8ddFGuVTpHS4",
        "outputId": "47d87792-b785-4254-8300-719afb3b7c09"
      },
      "execution_count": 45,
      "outputs": [
        {
          "output_type": "display_data",
          "data": {
            "image/png": "[encoded data removed]",
            "text/plain": [
              "<Figure size 360x288 with 1 Axes>"
            ]
          },
          "metadata": {
            "needs_background": "light"
          }
        }
      ]
    },
    {
      "cell_type": "code",
      "source": [
        ""
      ],
      "metadata": {
        "id": "JeWk1mjjpu31"
      },
      "execution_count": null,
      "outputs": []
    }
  ],
  "metadata": {
    "accelerator": "GPU",
    "colab": {
      "name": "assn2-que2b.ipynb",
      "provenance": [],
      "collapsed_sections": []
    },
    "kernelspec": {
      "display_name": "Python 3",
      "name": "python3"
    },
    "language_info": {
      "name": "python"
    }
  },
  "nbformat": 4,
  "nbformat_minor": 0
}