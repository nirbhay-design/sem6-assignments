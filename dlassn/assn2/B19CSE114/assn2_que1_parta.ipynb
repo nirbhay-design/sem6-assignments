{
  "cells": [
    {
      "cell_type": "code",
      "execution_count": null,
      "metadata": {
        "id": "KxzcyrjCY-U0"
      },
      "outputs": [],
      "source": [
        "import PIL\n",
        "import torch\n",
        "import torch.nn as nn\n",
        "import torch.optim as optim\n",
        "import torch.nn.functional as F\n",
        "import torchvision\n",
        "import copy\n",
        "import matplotlib.pyplot as plt\n",
        "import os\n",
        "import time\n",
        "import numpy as np\n",
        "from sklearn.preprocessing import label_binarize\n",
        "from sklearn.metrics import roc_curve, auc,classification_report,confusion_matrix\n",
        "import warnings\n",
        "import random\n",
        "warnings.filterwarnings('ignore')\n",
        "from sklearn.svm import SVC\n"
      ]
    },
    {
      "cell_type": "code",
      "execution_count": null,
      "metadata": {
        "id": "wAbAOKCJmZvb"
      },
      "outputs": [],
      "source": [
        "# y_true = [0,1,2,0,1,2,0,1,2,0,2,1,2,1,2,0,1,1,0,1,2,0,0,0,0,0,1,1,1]\n",
        "# y_pred = [0,0,1,1,1,1,1,0,0,0,2,2,2,2,1,1,1,1,0,0,0,2,2,2,2,1,1,1,0]\n",
        "# print(y_true)\n",
        "# print(y_pred)\n",
        "# x = list(range(1000))\n",
        "# y = [i**2 for i in range(1000)]\n",
        "# plt.figure(figsize=(5,4))\n",
        "# plt.plot(x,y,label='square')\n",
        "# plt.legend()\n",
        "# plt.xlabel('x')\n",
        "# plt.ylabel('y')\n",
        "# plt.title('test')\n",
        "# plt.savefig('/content/fig1.svg',format='svg')\n",
        "# plt.savefig('/content/fig2.png',format='png')\n",
        "# plt.savefig('/content/fig3.pdf',format='pdf')\n",
        "# plt.show()"
      ]
    },
    {
      "cell_type": "code",
      "execution_count": null,
      "metadata": {
        "id": "08pDWJZ6nAlh"
      },
      "outputs": [],
      "source": [
        "# print(classification_report(y_true,y_pred))"
      ]
    },
    {
      "cell_type": "code",
      "execution_count": null,
      "metadata": {
        "id": "Q1zi7QryrHoq"
      },
      "outputs": [],
      "source": [
        "# cm = confusion_matrix(y_true,y_pred)\n",
        "# print(cm)\n",
        "# cm = cm.astype('float') / cm.sum(axis=1)[:, np.newaxis]\n",
        "# print(cm.diagonal())\n",
        "# # print(roc_auc_score(np.array(labels), np.array(preds)[:,1]))\n"
      ]
    },
    {
      "cell_type": "code",
      "execution_count": null,
      "metadata": {
        "colab": {
          "base_uri": "https://localhost:8080/"
        },
        "id": "Ihr0U7did-sD",
        "outputId": "8b57ce7f-91b4-4952-e6b2-234abf9a7e64"
      },
      "outputs": [
        {
          "name": "stdout",
          "output_type": "stream",
          "text": [
            "cuda:0\n"
          ]
        }
      ],
      "source": [
        "#--------------------------------------------------Optimizations-------------------------------------------\n",
        "\n",
        "from torchvision.transforms.transforms import Resize\n",
        "config = dict(\n",
        "    DATA_PATH = \"stl10_pytorch/\",\n",
        "    lr = 0.001,\n",
        "    EPOCHS = 10,\n",
        "    BATCH_SIZE = 1,\n",
        "    IMAGE_SIZE = 128,\n",
        "    pin_memory = True,\n",
        "    num_workers = 2,\n",
        "    SEED = 42,\n",
        "    GPU_ID=0,\n",
        ")\n",
        "device = torch.device(f'cuda:{config[\"GPU_ID\"]}' if torch.cuda.is_available() else 'cpu')\n",
        "print(device)\n",
        "\n",
        "config['DEVICE'] = device\n",
        "\n",
        "torch.manual_seed(config['SEED'])\n",
        "torch.cuda.manual_seed(config['SEED'])\n",
        "\n",
        "\n",
        "transformations = {\n",
        "  'general':torchvision.transforms.Compose([\n",
        "          torchvision.transforms.Resize((config['IMAGE_SIZE'],config['IMAGE_SIZE'])),\n",
        "          torchvision.transforms.ToTensor(),\n",
        "          torchvision.transforms.Normalize([0.485, 0.456, 0.406], [0.229, 0.224, 0.225])\n",
        "  ]),\n",
        "  'train':torchvision.transforms.Compose([\n",
        "          torchvision.transforms.Normalize([0.485, 0.456, 0.406], [0.229, 0.224, 0.225])\n",
        "  ]),\n",
        "  'val':torchvision.transforms.Compose([\n",
        "          torchvision.transforms.Normalize([0.485, 0.456, 0.406], [0.229, 0.224, 0.225])\n",
        "  ]),\n",
        "  'test':torchvision.transforms.Compose([\n",
        "          torchvision.transforms.Normalize([0.485, 0.456, 0.406], [0.229, 0.224, 0.225])\n",
        "  ]),\n",
        "}\n",
        "\n",
        "os.environ[\"CUDA_DEVICE_ORDER\"]=\"PCI_BUS_ID\"  \n",
        "# os.environ[\"CUDA_VISIBLE_DEVICES\"]=\"2\"\n",
        "\n",
        "torch.backends.cudnn.benchmarks = True\n",
        "torch.backends.cudnn.deterministic = True\n",
        "torch.backends.cuda.matmul.allow_tf32 = True\n",
        "torch.backends.cudnn.allow_tf32 = True\n"
      ]
    },
    {
      "cell_type": "code",
      "execution_count": null,
      "metadata": {
        "colab": {
          "base_uri": "https://localhost:8080/"
        },
        "id": "05f1HlFgd-vB",
        "outputId": "0609b49f-9ae0-4ca5-dac8-77f6f8c716ca"
      },
      "outputs": [
        {
          "name": "stdout",
          "output_type": "stream",
          "text": [
            "Files already downloaded and verified\n",
            "Files already downloaded and verified\n",
            "train samples ->  5000\n",
            "test samples -> 8000\n"
          ]
        }
      ],
      "source": [
        "#--------------------------------------------------LoadData-------------------------------------------\n",
        "# get the dataset\n",
        "traindata = torchvision.datasets.STL10(root=config['DATA_PATH'],split='train',download=True,transform = transformations['general'])\n",
        "testdata = torchvision.datasets.STL10(root=config['DATA_PATH'],split='test',download=True,transform = transformations['general'])\n",
        "print('train samples -> ',len(traindata))\n",
        "print('test samples ->', len(testdata))\n",
        "\n",
        "\n",
        "train_loader = torch.utils.data.DataLoader(dataset=traindata,batch_size=config['BATCH_SIZE'],shuffle=True,num_workers=config['num_workers'],pin_memory=config['pin_memory'])\n",
        "test_loader = torch.utils.data.DataLoader(dataset=testdata,batch_size=config['BATCH_SIZE'],shuffle=True,num_workers=config['num_workers'],pin_memory=config['pin_memory'])\n",
        "\n",
        "# data,target = next(iter(train_loader))\n",
        "# print(target)\n",
        "\n",
        "# plt.imshow(data[0][0])\n",
        "# plt.savefig('visual_curves/seeimg.svg',format='svg')"
      ]
    },
    {
      "cell_type": "code",
      "execution_count": null,
      "metadata": {
        "id": "Rzt3QyC0d-yA"
      },
      "outputs": [],
      "source": [
        "#----------------------------------------------------Make model------------------------------\n",
        "\n",
        "resnet = torchvision.models.resnet50(pretrained=True)\n",
        "resnet.fc = nn.Sequential()\n",
        "resnet = resnet.to(config['DEVICE'])\n",
        "\n",
        "def extract_features(model,loader):\n",
        "    x_train = []\n",
        "    y_train = []\n",
        "    for idx,(data,target) in enumerate(loader):\n",
        "        data = data.to(config['DEVICE'])\n",
        "        # target = target.to(config['DEVICE'])\n",
        "        \n",
        "        features = model(data)\n",
        "        features = features.flatten(start_dim=0)\n",
        "        features= features.cpu()\n",
        "        features = np.array(list(map(lambda x:x.item(),features)))\n",
        "        x_train.append(features)\n",
        "        y_train.append(target.item())\n",
        "        print(f'done {idx}',end='\\r')\n",
        "        \n",
        "    return x_train,y_train\n",
        "\n",
        "def find_accuracy(y_test,predicted_prob):\n",
        "    accuracy = 0\n",
        "    y_test = np.array(y_test)\n",
        "    classes = np.argmax(predicted_prob,axis=1)\n",
        "    accuracy += (y_test == classes).sum()\n",
        "    return accuracy/len(y_test)\n",
        "\n",
        "def confusion_mat(y_true,predicted_prob):\n",
        "  y_pred = np.argmax(predicted_prob,axis=1)\n",
        "  y_true = np.array(y_true)\n",
        "\n",
        "  values,unique = np.unique(y_true,return_counts=True)\n",
        "  cm = np.zeros((len(values),len(values)))\n",
        "  for idx,t in enumerate(y_true):\n",
        "    p = y_pred[idx]\n",
        "    cm[t][int(p)] += 1\n",
        "  return cm\n",
        "\n",
        "def measures(y_true,y_pred):\n",
        "  y_true = np.array(y_true)\n",
        "  y_pred = np.array(y_pred)\n",
        "  unique_values = np.unique(y_true)\n",
        "  cm = np.zeros((len(unique_values),len(unique_values)))\n",
        "  for i in range(len(y_true)):\n",
        "    t = y_true[i]\n",
        "    p = y_pred[i]\n",
        "    cm[int(t)][int(p)] += 1\n",
        "  measure = np.divide(cm.T,np.sum(cm,axis=1)).T\n",
        "  return measure[0][1],measure[1][1]\n",
        "# print(measures([0,1,1,1,0,0,1,1,0],\n",
        "#                [1,0,1,1,0,0,1,1,1]))\n",
        "def get_fpr_tpr(ytrue_onehot,prob):\n",
        "  partitions = 100\n",
        "  fpr_arr = []\n",
        "  tpr_arr = []\n",
        "  for i in range(partitions+1):\n",
        "    th_pred = np.greater_equal(prob,i/partitions).astype(np.int32)\n",
        "    fpr,tpr = measures(ytrue_onehot,th_pred)\n",
        "    fpr_arr.append(fpr)\n",
        "    tpr_arr.append(tpr)\n",
        "  return fpr_arr,tpr_arr\n",
        "\n",
        "def roc(y_true,predicted_prob):\n",
        "  y_true = np.array(y_true)\n",
        "  unique_values = np.unique(y_true)\n",
        "  onehot_ytrue = np.zeros((len(y_true),len(unique_values)))\n",
        "  for idx,value in enumerate(y_true):\n",
        "    onehot_ytrue[idx][int(value)] = 1\n",
        "\n",
        "  fpr_tpr = {}\n",
        "  for i in range(len(unique_values)):\n",
        "    fpr,tpr = get_fpr_tpr(onehot_ytrue[:,i],predicted_prob[:,i])\n",
        "    fpr_tpr[i] = [fpr,tpr]\n",
        "\n",
        "  plt.figure(figsize=(5,4))  \n",
        "  for i in range(len(unique_values)):\n",
        "    fpr,tpr = fpr_tpr[i]\n",
        "    plt.plot(fpr,tpr,label=f'class:{i}')\n",
        "\n",
        "  plt.xlabel('fpr')\n",
        "  plt.ylabel('tpr')\n",
        "  plt.title('ROC')\n",
        "  plt.legend()\n",
        "  plt.savefig('/content/ROC_que2.svg',format='svg')\n",
        "  plt.show()\n",
        "  \n",
        "# predicted_prob = np.random.rand(100,3)\n",
        "# y_true = [random.choice([0,1,2]) for i in range(100)]\n",
        "\n",
        "# roc(y_true,predicted_prob)\n",
        "\n",
        "# rrr = roc([0,1,2,0,2,1],2)\n",
        "# def findroc(y_test,predicted_prob):\n",
        "#     pass\n"
      ]
    },
    {
      "cell_type": "code",
      "execution_count": null,
      "metadata": {
        "colab": {
          "base_uri": "https://localhost:8080/"
        },
        "id": "NcvkOWL2d-06",
        "outputId": "bc620d63-d37e-4e79-a8eb-8fffbfd437ae"
      },
      "outputs": [
        {
          "name": "stdout",
          "output_type": "stream",
          "text": []
        }
      ],
      "source": [
        "x_train,y_train = extract_features(resnet,train_loader)"
      ]
    },
    {
      "cell_type": "code",
      "execution_count": null,
      "metadata": {
        "colab": {
          "base_uri": "https://localhost:8080/"
        },
        "id": "XKas_2HhfULj",
        "outputId": "e4c10562-48bb-4232-e4fd-dddb8cb35b30"
      },
      "outputs": [
        {
          "data": {
            "text/plain": [
              "SVC(C=3, probability=True)"
            ]
          },
          "execution_count": 9,
          "metadata": {},
          "output_type": "execute_result"
        }
      ],
      "source": [
        "mysvm = SVC(C=3,probability=True,decision_function_shape='ovr')\n",
        "mysvm.fit(x_train,y_train)"
      ]
    },
    {
      "cell_type": "code",
      "execution_count": null,
      "metadata": {
        "colab": {
          "base_uri": "https://localhost:8080/"
        },
        "id": "KaWp4vqud-3l",
        "outputId": "2c5331d2-1b2d-4945-8b13-3c9e756210b5"
      },
      "outputs": [
        {
          "name": "stdout",
          "output_type": "stream",
          "text": []
        }
      ],
      "source": [
        "x_test,y_test = extract_features(resnet,test_loader)"
      ]
    },
    {
      "cell_type": "code",
      "execution_count": null,
      "metadata": {
        "id": "WI1SLsh6hxMR"
      },
      "outputs": [],
      "source": [
        "predicted_prob = mysvm.predict_proba(x_test)"
      ]
    },
    {
      "cell_type": "code",
      "execution_count": null,
      "metadata": {
        "colab": {
          "base_uri": "https://localhost:8080/"
        },
        "id": "0qSuM8Yhd-6m",
        "outputId": "781d753b-ca52-45b2-b0e8-cb1aa3fdb05a"
      },
      "outputs": [
        {
          "name": "stdout",
          "output_type": "stream",
          "text": [
            "0.697625\n"
          ]
        }
      ],
      "source": [
        "acc = find_accuracy(y_test,predicted_prob)\n",
        "print(acc)"
      ]
    },
    {
      "cell_type": "code",
      "execution_count": null,
      "metadata": {
        "colab": {
          "base_uri": "https://localhost:8080/"
        },
        "id": "nzbXwo3od-9k",
        "outputId": "947e2ddb-4f16-4969-9fcb-ffcb98e17be0"
      },
      "outputs": [
        {
          "data": {
            "text/plain": [
              "array([[609.,  26.,  20.,  13.,   5.,   5.,   9.,   6.,  68.,  39.],\n",
              "       [ 30., 582.,   1.,  55.,  20.,  27.,  16.,  61.,   5.,   3.],\n",
              "       [ 15.,   3., 654.,   5.,   2.,   4.,   1.,   3.,  20.,  93.],\n",
              "       [ 16.,  43.,   5., 465.,  62.,  84.,  34.,  62.,  19.,  10.],\n",
              "       [ 14.,  33.,   4.,  49., 550.,  46.,  67.,  28.,   6.,   3.],\n",
              "       [ 11.,  24.,   3.,  83.,  49., 454.,  87.,  76.,   7.,   6.],\n",
              "       [ 14.,  27.,   3.,  32.,  66.,  82., 536.,  25.,   6.,   9.],\n",
              "       [  8.,  53.,   4.,  58.,  30.,  51.,  28., 559.,   4.,   5.],\n",
              "       [ 68.,   5.,  17.,  11.,   3.,   8.,   3.,   4., 608.,  73.],\n",
              "       [ 45.,   5.,  83.,  13.,   1.,   4.,   1.,   5.,  79., 564.]])"
            ]
          },
          "execution_count": 13,
          "metadata": {},
          "output_type": "execute_result"
        }
      ],
      "source": [
        "confusion_mat(y_test,predicted_prob)"
      ]
    },
    {
      "cell_type": "code",
      "execution_count": null,
      "metadata": {
        "colab": {
          "base_uri": "https://localhost:8080/"
        },
        "id": "1l-QbBngP8ly",
        "outputId": "5404af75-c321-417b-c36a-0f065d42ded4"
      },
      "outputs": [
        {
          "name": "stdout",
          "output_type": "stream",
          "text": [
            "using inbuilt\n"
          ]
        },
        {
          "data": {
            "text/plain": [
              "array([[609,  26,  20,  13,   5,   5,   9,   6,  68,  39],\n",
              "       [ 30, 582,   1,  55,  20,  27,  16,  61,   5,   3],\n",
              "       [ 15,   3, 654,   5,   2,   4,   1,   3,  20,  93],\n",
              "       [ 16,  43,   5, 465,  62,  84,  34,  62,  19,  10],\n",
              "       [ 14,  33,   4,  49, 550,  46,  67,  28,   6,   3],\n",
              "       [ 11,  24,   3,  83,  49, 454,  87,  76,   7,   6],\n",
              "       [ 14,  27,   3,  32,  66,  82, 536,  25,   6,   9],\n",
              "       [  8,  53,   4,  58,  30,  51,  28, 559,   4,   5],\n",
              "       [ 68,   5,  17,  11,   3,   8,   3,   4, 608,  73],\n",
              "       [ 45,   5,  83,  13,   1,   4,   1,   5,  79, 564]])"
            ]
          },
          "execution_count": 14,
          "metadata": {},
          "output_type": "execute_result"
        }
      ],
      "source": [
        "print('using inbuilt')\n",
        "confusion_matrix(y_test,np.argmax(predicted_prob,axis=1))"
      ]
    },
    {
      "cell_type": "code",
      "execution_count": null,
      "metadata": {
        "colab": {
          "base_uri": "https://localhost:8080/",
          "height": 295
        },
        "id": "f5LJ7XCQd-_2",
        "outputId": "e08e5cdc-ee70-40c3-809f-108f68bbb9e6"
      },
      "outputs": [
        {
          "data": {
            "image/png": "[encoded data removed]",
            "text/plain": [
              "<Figure size 360x288 with 1 Axes>"
            ]
          },
          "metadata": {
            "needs_background": "light"
          },
          "output_type": "display_data"
        }
      ],
      "source": [
        "roc(y_test,predicted_prob)"
      ]
    },
    {
      "cell_type": "code",
      "execution_count": null,
      "metadata": {
        "id": "mdNVmclvd_Cx"
      },
      "outputs": [],
      "source": []
    }
  ],
  "metadata": {
    "accelerator": "GPU",
    "colab": {
      "collapsed_sections": [],
      "name": "assn-2-que-1.ipynb",
      "provenance": []
    },
    "kernelspec": {
      "display_name": "Python 3",
      "name": "python3"
    },
    "language_info": {
      "name": "python"
    }
  },
  "nbformat": 4,
  "nbformat_minor": 0
}
