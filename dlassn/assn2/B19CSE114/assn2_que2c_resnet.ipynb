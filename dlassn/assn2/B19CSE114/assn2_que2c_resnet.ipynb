{
  "cells": [
    {
      "cell_type": "code",
      "execution_count": null,
      "metadata": {
        "id": "UjdymWp9Bakl"
      },
      "outputs": [],
      "source": [
        "import torch\n",
        "import torchvision\n",
        "import torch.nn as nn\n",
        "import torch.nn.functional as F\n",
        "import torchvision.transforms as transforms\n",
        "from torch.utils.data import DataLoader\n",
        "import numpy as np\n",
        "import torch.optim as optim\n",
        "import random\n",
        "import time\n",
        "import os\n",
        "from PIL import Image\n",
        "import matplotlib.pyplot as plt\n",
        "from sklearn.metrics import roc_auc_score,precision_recall_fscore_support,auc\n",
        "from sklearn.preprocessing import label_binarize\n",
        "import warnings\n",
        "warnings.filterwarnings('ignore')"
      ]
    },
    {
      "cell_type": "code",
      "execution_count": null,
      "metadata": {
        "colab": {
          "base_uri": "https://localhost:8080/"
        },
        "id": "KWWRxLxBUZ1F",
        "outputId": "4ebc75a9-29d3-4477-ca01-ee98b48da4bc"
      },
      "outputs": [
        {
          "name": "stdout",
          "output_type": "stream",
          "text": [
            "Mounted at /content/gdrive\n"
          ]
        }
      ],
      "source": [
        "from google.colab import drive\n",
        "drive.mount('/content/gdrive')"
      ]
    },
    {
      "cell_type": "code",
      "execution_count": null,
      "metadata": {
        "id": "RpMb0zZ6RYrl"
      },
      "outputs": [],
      "source": [
        "path = \"/content/gdrive/MyDrive/MaskNomaskdataset/tiny-imagenet-200.zip\"\n",
        "import zipfile\n",
        "with zipfile.ZipFile(path, 'r') as zip_ref:\n",
        "    zip_ref.extractall('/content/tinyimgnet')"
      ]
    },
    {
      "cell_type": "code",
      "execution_count": null,
      "metadata": {
        "id": "X0tOUB1PCVoG"
      },
      "outputs": [],
      "source": [
        "config = dict(\n",
        "    train_data = \"/content/tinyimgnet/tiny-imagenet-200/train\",\n",
        "    test_data = \"/content/tinyimgnet/tiny-imagenet-200/val/images\",\n",
        "    test_anno=\"/content/tinyimgnet/tiny-imagenet-200/val/val_annotations.txt\",\n",
        "    wnids = \"/content/tinyimgnet/tiny-imagenet-200/wnids.txt\",\n",
        "    lr = 0.001,\n",
        "    EPOCHS = 10,\n",
        "    BATCH_SIZE = 32,\n",
        "    IMAGE_SIZE = 64,\n",
        "    pin_memory = True,\n",
        "    num_workers = 2,\n",
        "    SEED = 42,\n",
        "    GPU_ID=0,\n",
        "    val_split = 0.2\n",
        ")"
      ]
    },
    {
      "cell_type": "code",
      "execution_count": null,
      "metadata": {
        "id": "cv8jQoNZCbA-"
      },
      "outputs": [],
      "source": [
        "class CustomTestDataset():\n",
        "  def __init__(self,img_path):\n",
        "    self.img_path = img_path\n",
        "    with open(config['wnids']) as f:\n",
        "      self.wnids = f.read().split('\\n')\n",
        "      self.wnids.remove('')\n",
        "\n",
        "    with open(config['test_anno']) as f:\n",
        "      self.test_anno = list(map(lambda x:x.split('\\t')[:2],f.read().split(\"\\n\")))\n",
        "      self.test_anno.remove([''])\n",
        "\n",
        "    self.wnids = sorted(self.wnids,key = lambda x:x)\n",
        "    self.mapping = dict(list(zip(self.wnids,list(range(200)))))\n",
        "    # self.rev_mapping = {j:i for i,j in self.mapping.items()}\n",
        "    self.transformations = transforms.ToTensor()\n",
        "\n",
        "  def __len__(self):\n",
        "    return len(self.test_anno)\n",
        "\n",
        "  def __getitem__(self,idx):\n",
        "    test_img, class_name = self.test_anno[idx]\n",
        "    cls_idx = self.mapping.get(class_name,-1)\n",
        "    \n",
        "    img = Image.open(os.path.join(config['test_data'],test_img)).convert('RGB')\n",
        "    img = self.transformations(img)\n",
        "    return (img,cls_idx)\n",
        "\n",
        "class CustomTrainDataset():\n",
        "  def __init__(self,img_path):\n",
        "    self.img_path = img_path\n",
        "    with open(config['wnids']) as f:\n",
        "      self.wnids = f.read().split('\\n')\n",
        "      self.wnids.remove('')\n",
        "    self.wnids = sorted(self.wnids,key = lambda x:x)\n",
        "    self.mapping = dict(list(zip(self.wnids,list(range(200)))))\n",
        "\n",
        "    img_class = os.listdir(self.img_path)\n",
        "    self.img_map = []\n",
        "    for clss in img_class:\n",
        "      cls_imgs = os.listdir(os.path.join(self.img_path,clss,'images'))\n",
        "      clss_imgs = list(map(lambda x:[clss,x],cls_imgs))\n",
        "      self.img_map.extend(clss_imgs)\n",
        "    \n",
        "    self.transformations = transforms.ToTensor()\n",
        "  def __len__(self):\n",
        "    return len(self.img_map)\n",
        "\n",
        "  def __getitem__(self,idx):\n",
        "    class_image,image_name = self.img_map[idx]\n",
        "    cls_idx = self.mapping.get(class_image,-1)\n",
        "\n",
        "    img = Image.open(os.path.join(self.img_path,class_image,'images',image_name)).convert('RGB')\n",
        "    img = self.transformations(img)\n",
        "\n",
        "    return (img,cls_idx)\n"
      ]
    },
    {
      "cell_type": "code",
      "execution_count": null,
      "metadata": {
        "colab": {
          "base_uri": "https://localhost:8080/"
        },
        "id": "_wmDe20YCh5d",
        "outputId": "17ff543b-3a84-49cc-9978-26f62751f55d"
      },
      "outputs": [
        {
          "name": "stdout",
          "output_type": "stream",
          "text": [
            "cuda:0\n"
          ]
        }
      ],
      "source": [
        "\n",
        "device = torch.device(f'cuda:{config[\"GPU_ID\"]}' if torch.cuda.is_available() else 'cpu')\n",
        "print(device)\n",
        "\n",
        "config['DEVICE'] = device\n",
        "\n",
        "torch.manual_seed(config['SEED'])\n",
        "torch.cuda.manual_seed(config['SEED'])\n",
        "\n",
        "\n",
        "transformations = {\n",
        "  'train':torchvision.transforms.Compose([\n",
        "          torchvision.transforms.Normalize([0.485, 0.456, 0.406], [0.229, 0.224, 0.225])\n",
        "  ]),\n",
        "  'test':torchvision.transforms.Compose([\n",
        "          torchvision.transforms.Normalize([0.485, 0.456, 0.406], [0.229, 0.224, 0.225])\n",
        "  ]),\n",
        "}\n",
        "\n",
        "os.environ[\"CUDA_DEVICE_ORDER\"]=\"PCI_BUS_ID\"  \n",
        "# os.environ[\"CUDA_VISIBLE_DEVICES\"]=\"2\"\n",
        "\n",
        "torch.backends.cudnn.benchmarks = True\n",
        "torch.backends.cudnn.deterministic = True\n",
        "torch.backends.cuda.matmul.allow_tf32 = True\n",
        "torch.backends.cudnn.allow_tf32 = True"
      ]
    },
    {
      "cell_type": "code",
      "execution_count": null,
      "metadata": {
        "id": "3bo9U3ZoClwI"
      },
      "outputs": [],
      "source": [
        "def get_params(model):\n",
        "  par = 0\n",
        "  for params in model.parameters():\n",
        "    if (params.requires_grad == True):\n",
        "      par += params.numel()\n",
        "  return par\n",
        "\n",
        "class Center_loss(nn.Module):\n",
        "  def __init__(self,embed_dim=256,n_class=200):\n",
        "    super(Center_loss,self).__init__()\n",
        "    self.embed_dim = embed_dim\n",
        "    self.nc = n_class\n",
        "    self.centers = nn.Parameter(torch.rand(self.nc, self.embed_dim).to(device))\n",
        "\n",
        "  def forward(self,x,labels):\n",
        "    # x_shape = [Batch_size, embed_dim]\n",
        "    assert x.shape[1] == self.embed_dim, \"embedding dimensions should be same\"\n",
        "    assert x.shape[0] == labels.shape[0], \"no of data in target and x are not same\"\n",
        "    center_labels = torch.tensor([self.centers[i].cpu().detach().numpy() for i in labels])\n",
        "    center_labels = center_labels.to(device)\n",
        "    loss = torch.sum(torch.pow((x-center_labels),2)) / (x.shape[0]*x.shape[1])\n",
        "    return loss\n",
        "\n",
        "\n",
        "class D_ce(nn.Module):\n",
        "  def __init__(self,num_class=200):\n",
        "    super(D_ce,self).__init__()\n",
        "    self.n_class = num_class\n",
        "    self.dnet = torchvision.models.resnet18(pretrained=True)\n",
        "    self.dnet.fc = nn.Linear(512,256)\n",
        "    self.finalc = nn.Linear(256,self.n_class)\n",
        "    print(get_params(self.dnet))\n",
        "\n",
        "    for name,params in self.dnet.named_parameters():\n",
        "      if (name == \"layer4.0.conv1.weight\"):\n",
        "        break\n",
        "      params.requires_grad = False\n",
        "\n",
        "    print(get_params(self.dnet))\n",
        "\n",
        "  def forward(self,x):\n",
        "    x = self.dnet(x)\n",
        "    x1 = self.finalc(x)\n",
        "    return x1,x\n",
        "\n"
      ]
    },
    {
      "cell_type": "code",
      "execution_count": null,
      "metadata": {
        "id": "dKK-MmZxCxiC"
      },
      "outputs": [],
      "source": [
        "def train(model,train_load,lossfunction1,lossfunction2,optimizer,n_epochs=200):\n",
        "    tval = {'trainacc':[],\"trainloss\":[]}\n",
        "    starttime = time.time()\n",
        "    for epochs in range(n_epochs):\n",
        "        model.train()\n",
        "        cur_loss = 0\n",
        "        curacc = 0\n",
        "        len_train = len(train_load)\n",
        "\n",
        "        avg_loss1 = 0\n",
        "        avg_loss2 = 0\n",
        "        for idx , (data,target) in enumerate(train_load):\n",
        "            data = transformations['train'](data)    \n",
        "            data = data.to(device)\n",
        "            target = target.to(device)\n",
        "            # model = model.to(device)\n",
        "\n",
        "            scores,emb = model(data)    \n",
        "            loss1 = lossfunction1(scores,target)\n",
        "            loss2 = lossfunction2(emb,target)\n",
        "            # print(loss1,loss2)\n",
        "            avg_loss1 += (loss1) /(len_train)\n",
        "            avg_loss2 += (loss2) / (len_train)\n",
        "\n",
        "            loss = loss1 + loss2\n",
        "            cur_loss += loss.item() / (len_train)\n",
        "            scores = F.softmax(scores,dim = 1)\n",
        "            _,predicted = torch.max(scores,dim = 1)\n",
        "            correct = (predicted == target).sum()\n",
        "            samples = scores.shape[0]\n",
        "            curacc += correct / (samples * len_train)\n",
        "\n",
        "            optimizer.zero_grad()\n",
        "            loss.backward()\n",
        "            optimizer.step()\n",
        "\n",
        "            print('TrainBatchDone:{:d}'.format(idx),end='\\r') \n",
        "  \n",
        "        tval['trainacc'].append(float(curacc))\n",
        "        tval['trainloss'].append(float(cur_loss))\n",
        "      \n",
        "        print('epoch:[{:d}/{:d}], TrainAcc:{:.3f}, TrainLoss:{:.3f}, ce_loss:{:.3f}, cl_loss:{:.3f}'.format(epochs+1,n_epochs,curacc,cur_loss,avg_loss1,avg_loss2)) \n",
        "\n",
        "    time2 = time.time() - starttime\n",
        "    print('done time {:.3f} Mins'.format(time2/60))\n",
        "    return tval\n",
        "\n",
        "def evaluate(model,loader,name='test'):\n",
        "  model.eval()\n",
        "  correct = 0;samples =0\n",
        "  pre_prob = []\n",
        "  lab = []\n",
        "  predicted_labels = []\n",
        "\n",
        "  with torch.no_grad():\n",
        "      for idx,(x,y) in enumerate(loader):\n",
        "          x = transformations['test'](x)\n",
        "          x = x.to(device)\n",
        "          y = y.to(device)\n",
        "          # model = model.to(device)\n",
        "\n",
        "          scores,_ = model(x)\n",
        "          predict_prob = F.softmax(scores)\n",
        "          _,predictions = predict_prob.max(1)\n",
        "\n",
        "          predictions = predictions.to('cpu')\n",
        "          y = y.to('cpu')\n",
        "          predict_prob = predict_prob.to('cpu')\n",
        "\n",
        "          predicted_labels.extend(list(predictions.numpy()))\n",
        "          pre_prob.extend(list(predict_prob.numpy()))\n",
        "          lab.extend(list(y.numpy()))\n",
        "\n",
        "          correct += (predictions == y).sum()\n",
        "          samples += predictions.size(0)\n",
        "\n",
        "          print('batches done : ',idx,end='\\r')\n",
        "      \n",
        "      print(f'correct are {correct/samples:.3f}')\n",
        "      \n",
        "  model.train()\n",
        "  return np.array(lab),np.array(predicted_labels),np.array(pre_prob)\n",
        "\n",
        "def plot_loss_acc(tval):\n",
        "  plt.figure(figsize=(5,4))\n",
        "  plt.plot(list(range(1,config['EPOCHS']+1)),tval['trainloss'],label='loss')\n",
        "  plt.plot(list(range(1,config['EPOCHS']+1)),tval['trainacc'],label='accuracy')\n",
        "  plt.xlabel('epochs')\n",
        "  plt.ylabel('loss/accuracy')\n",
        "  plt.title('loss_accuracy')\n",
        "  plt.legend()\n",
        "  plt.savefig('loss_acc_2b.svg',format='svg')\n",
        "  plt.show()"
      ]
    },
    {
      "cell_type": "code",
      "execution_count": null,
      "metadata": {
        "colab": {
          "base_uri": "https://localhost:8080/"
        },
        "id": "bSOt8S8eCx_F",
        "outputId": "6cdae1e6-8089-48b9-86a8-5c57ae01c517"
      },
      "outputs": [
        {
          "name": "stdout",
          "output_type": "stream",
          "text": [
            "3125\n",
            "313\n"
          ]
        }
      ],
      "source": [
        "ctd = CustomTestDataset(config['test_data'])\n",
        "test_loader = torch.utils.data.DataLoader(ctd,batch_size=config['BATCH_SIZE'],shuffle=True,num_workers=config['num_workers'],pin_memory=config['pin_memory'])\n",
        "cTd = CustomTrainDataset(config['train_data'])\n",
        "train_set,_ = torch.utils.data.dataset.random_split(cTd,[50000,50000])\n",
        "train_loader = torch.utils.data.DataLoader(cTd,batch_size=config['BATCH_SIZE'],shuffle=True,num_workers=config['num_workers'],pin_memory=config['pin_memory'])\n",
        "\n",
        "print(len(train_loader))\n",
        "print(len(test_loader))"
      ]
    },
    {
      "cell_type": "code",
      "execution_count": null,
      "metadata": {
        "colab": {
          "base_uri": "https://localhost:8080/"
        },
        "id": "wL7ZvakSuq2W",
        "outputId": "8e55114d-d6ff-476f-e72b-5c0173e0e253"
      },
      "outputs": [
        {
          "name": "stdout",
          "output_type": "stream",
          "text": [
            "11307840\n",
            "8525056\n",
            "epoch:[1/10], TrainAcc:0.293, TrainLoss:3.427, ce_loss:3.070, cl_loss:0.357\n",
            "epoch:[2/10], TrainAcc:0.428, TrainLoss:2.580, ce_loss:2.343, cl_loss:0.237\n",
            "epoch:[3/10], TrainAcc:0.510, TrainLoss:2.154, ce_loss:1.945, cl_loss:0.209\n",
            "epoch:[4/10], TrainAcc:0.594, TrainLoss:1.758, ce_loss:1.560, cl_loss:0.198\n",
            "epoch:[5/10], TrainAcc:0.675, TrainLoss:1.390, ce_loss:1.199, cl_loss:0.191\n",
            "epoch:[6/10], TrainAcc:0.744, TrainLoss:1.095, ce_loss:0.908, cl_loss:0.187\n",
            "epoch:[7/10], TrainAcc:0.799, TrainLoss:0.881, ce_loss:0.700, cl_loss:0.181\n",
            "epoch:[8/10], TrainAcc:0.838, TrainLoss:0.727, ce_loss:0.553, cl_loss:0.174\n",
            "epoch:[9/10], TrainAcc:0.865, TrainLoss:0.620, ce_loss:0.452, cl_loss:0.168\n",
            "epoch:[10/10], TrainAcc:0.885, TrainLoss:0.547, ce_loss:0.387, cl_loss:0.161\n",
            "done time 19.072 Mins\n"
          ]
        }
      ],
      "source": [
        "dnet = D_ce()\n",
        "dnet = dnet.to(device)\n",
        "lossfunction1 = nn.CrossEntropyLoss()\n",
        "lossfunction2 = Center_loss()\n",
        "optimizer = optim.Adam([\n",
        "                        {'params':dnet.parameters()},\n",
        "                        {'params':lossfunction2.parameters(),'lr':0.01}\n",
        "                      ],lr=config['lr'])\n",
        "history = train(dnet,train_loader,lossfunction1,lossfunction2,optimizer,n_epochs=config['EPOCHS'])\n"
      ]
    },
    {
      "cell_type": "code",
      "execution_count": null,
      "metadata": {
        "colab": {
          "base_uri": "https://localhost:8080/"
        },
        "id": "Uu1qKlnsDPLT",
        "outputId": "bf7acadb-13aa-452a-feaa-338ade017550"
      },
      "outputs": [
        {
          "name": "stdout",
          "output_type": "stream",
          "text": [
            "correct are 0.431\n"
          ]
        }
      ],
      "source": [
        "y_true,y_pred,pred_prob = evaluate(dnet,test_loader)"
      ]
    },
    {
      "cell_type": "code",
      "execution_count": null,
      "metadata": {
        "id": "31Dx-2SzDa4t"
      },
      "outputs": [],
      "source": [
        "precision,recall,f_score,_ = precision_recall_fscore_support(y_true,y_pred)"
      ]
    },
    {
      "cell_type": "code",
      "execution_count": null,
      "metadata": {
        "colab": {
          "base_uri": "https://localhost:8080/"
        },
        "id": "bA_JjsHqDbWj",
        "outputId": "d475ff57-29dd-4aa6-fd60-abb22d4b5967"
      },
      "outputs": [
        {
          "name": "stdout",
          "output_type": "stream",
          "text": [
            "precision: 0.454\n",
            "recall: 0.431\n",
            "f_score: 0.432\n"
          ]
        }
      ],
      "source": [
        "print(f'precision: {np.array(precision).mean():.3f}')\n",
        "print(f'recall: {np.array(recall).mean():.3f}')\n",
        "print(f'f_score: {np.array(f_score).mean():.3f}')"
      ]
    },
    {
      "cell_type": "code",
      "execution_count": null,
      "metadata": {
        "colab": {
          "base_uri": "https://localhost:8080/",
          "height": 295
        },
        "id": "Sxdfua9sDfI7",
        "outputId": "8a92dd09-923f-4b8b-bc5e-17cf196b0061"
      },
      "outputs": [
        {
          "data": {
            "image/png": "[encoded data removed]",
            "text/plain": [
              "<Figure size 360x288 with 1 Axes>"
            ]
          },
          "metadata": {
            "needs_background": "light"
          },
          "output_type": "display_data"
        }
      ],
      "source": [
        "plot_loss_acc(history)"
      ]
    },
    {
      "cell_type": "code",
      "execution_count": null,
      "metadata": {
        "id": "uBidfKmoDhh5"
      },
      "outputs": [],
      "source": []
    },
    {
      "cell_type": "code",
      "execution_count": null,
      "metadata": {
        "id": "jGNubqWMFiV3"
      },
      "outputs": [],
      "source": []
    },
    {
      "cell_type": "code",
      "execution_count": null,
      "metadata": {
        "id": "ggj6kbnuFnBT"
      },
      "outputs": [],
      "source": []
    },
    {
      "cell_type": "code",
      "execution_count": null,
      "metadata": {
        "id": "eK6rwgarFpEy"
      },
      "outputs": [],
      "source": []
    },
    {
      "cell_type": "code",
      "execution_count": null,
      "metadata": {
        "id": "OZ5lspIW7jp9"
      },
      "outputs": [],
      "source": []
    },
    {
      "cell_type": "code",
      "execution_count": null,
      "metadata": {
        "id": "dLXIpfYH_zx3"
      },
      "outputs": [],
      "source": []
    },
    {
      "cell_type": "code",
      "execution_count": null,
      "metadata": {
        "id": "erWEQ8KNACjX"
      },
      "outputs": [],
      "source": []
    }
  ],
  "metadata": {
    "accelerator": "GPU",
    "colab": {
      "collapsed_sections": [],
      "name": "assn2-que2c.ipynb",
      "provenance": []
    },
    "kernelspec": {
      "display_name": "Python 3",
      "name": "python3"
    },
    "language_info": {
      "name": "python"
    }
  },
  "nbformat": 4,
  "nbformat_minor": 0
}
