{
  "nbformat": 4,
  "nbformat_minor": 0,
  "metadata": {
    "colab": {
      "name": "assn-2que1-partb.ipynb",
      "provenance": [],
      "collapsed_sections": []
    },
    "kernelspec": {
      "name": "python3",
      "display_name": "Python 3"
    },
    "language_info": {
      "name": "python"
    },
    "accelerator": "GPU",
    "widgets": {
      "application/vnd.jupyter.widget-state+json": {
        "2463cf82982a4b5faaeee2ef96bddf4b": {
          "model_module": "@jupyter-widgets/controls",
          "model_name": "HBoxModel",
          "model_module_version": "1.5.0",
          "state": {
            "_view_name": "HBoxView",
            "_dom_classes": [],
            "_model_name": "HBoxModel",
            "_view_module": "@jupyter-widgets/controls",
            "_model_module_version": "1.5.0",
            "_view_count": null,
            "_view_module_version": "1.5.0",
            "box_style": "",
            "layout": "IPY_MODEL_522bf6541b2947a1a5852083e91a3374",
            "_model_module": "@jupyter-widgets/controls",
            "children": [
              "IPY_MODEL_b7d747cd94894e6cb9a85037287d32a8",
              "IPY_MODEL_e07bdba1752d4f53813ab68c6dff5a0f",
              "IPY_MODEL_b61d8e2053c1412bbfc02b82a6981a08"
            ]
          }
        },
        "522bf6541b2947a1a5852083e91a3374": {
          "model_module": "@jupyter-widgets/base",
          "model_name": "LayoutModel",
          "model_module_version": "1.2.0",
          "state": {
            "_view_name": "LayoutView",
            "grid_template_rows": null,
            "right": null,
            "justify_content": null,
            "_view_module": "@jupyter-widgets/base",
            "overflow": null,
            "_model_module_version": "1.2.0",
            "_view_count": null,
            "flex_flow": null,
            "width": null,
            "min_width": null,
            "border": null,
            "align_items": null,
            "bottom": null,
            "_model_module": "@jupyter-widgets/base",
            "top": null,
            "grid_column": null,
            "overflow_y": null,
            "overflow_x": null,
            "grid_auto_flow": null,
            "grid_area": null,
            "grid_template_columns": null,
            "flex": null,
            "_model_name": "LayoutModel",
            "justify_items": null,
            "grid_row": null,
            "max_height": null,
            "align_content": null,
            "visibility": null,
            "align_self": null,
            "height": null,
            "min_height": null,
            "padding": null,
            "grid_auto_rows": null,
            "grid_gap": null,
            "max_width": null,
            "order": null,
            "_view_module_version": "1.2.0",
            "grid_template_areas": null,
            "object_position": null,
            "object_fit": null,
            "grid_auto_columns": null,
            "margin": null,
            "display": null,
            "left": null
          }
        },
        "b7d747cd94894e6cb9a85037287d32a8": {
          "model_module": "@jupyter-widgets/controls",
          "model_name": "HTMLModel",
          "model_module_version": "1.5.0",
          "state": {
            "_view_name": "HTMLView",
            "style": "IPY_MODEL_379f37c8991048fba932106e8cb0c7ae",
            "_dom_classes": [],
            "description": "",
            "_model_name": "HTMLModel",
            "placeholder": "​",
            "_view_module": "@jupyter-widgets/controls",
            "_model_module_version": "1.5.0",
            "value": "",
            "_view_count": null,
            "_view_module_version": "1.5.0",
            "description_tooltip": null,
            "_model_module": "@jupyter-widgets/controls",
            "layout": "IPY_MODEL_95b7b8ee48fc4cfc8672e8864b810a88"
          }
        },
        "e07bdba1752d4f53813ab68c6dff5a0f": {
          "model_module": "@jupyter-widgets/controls",
          "model_name": "FloatProgressModel",
          "model_module_version": "1.5.0",
          "state": {
            "_view_name": "ProgressView",
            "style": "IPY_MODEL_135ed907719f45b9b80e14dc79da1222",
            "_dom_classes": [],
            "description": "",
            "_model_name": "FloatProgressModel",
            "bar_style": "success",
            "max": 2640397119,
            "_view_module": "@jupyter-widgets/controls",
            "_model_module_version": "1.5.0",
            "value": 2640397119,
            "_view_count": null,
            "_view_module_version": "1.5.0",
            "orientation": "horizontal",
            "min": 0,
            "description_tooltip": null,
            "_model_module": "@jupyter-widgets/controls",
            "layout": "IPY_MODEL_27819086560a4128afb8b45e788e8703"
          }
        },
        "b61d8e2053c1412bbfc02b82a6981a08": {
          "model_module": "@jupyter-widgets/controls",
          "model_name": "HTMLModel",
          "model_module_version": "1.5.0",
          "state": {
            "_view_name": "HTMLView",
            "style": "IPY_MODEL_bb8dec8373cf47e08a4d83d5625f2bc0",
            "_dom_classes": [],
            "description": "",
            "_model_name": "HTMLModel",
            "placeholder": "​",
            "_view_module": "@jupyter-widgets/controls",
            "_model_module_version": "1.5.0",
            "value": " 2640397312/? [00:59&lt;00:00, 51848005.79it/s]",
            "_view_count": null,
            "_view_module_version": "1.5.0",
            "description_tooltip": null,
            "_model_module": "@jupyter-widgets/controls",
            "layout": "IPY_MODEL_a55cd23f547742969a56f5895c9354f9"
          }
        },
        "379f37c8991048fba932106e8cb0c7ae": {
          "model_module": "@jupyter-widgets/controls",
          "model_name": "DescriptionStyleModel",
          "model_module_version": "1.5.0",
          "state": {
            "_view_name": "StyleView",
            "_model_name": "DescriptionStyleModel",
            "description_width": "",
            "_view_module": "@jupyter-widgets/base",
            "_model_module_version": "1.5.0",
            "_view_count": null,
            "_view_module_version": "1.2.0",
            "_model_module": "@jupyter-widgets/controls"
          }
        },
        "95b7b8ee48fc4cfc8672e8864b810a88": {
          "model_module": "@jupyter-widgets/base",
          "model_name": "LayoutModel",
          "model_module_version": "1.2.0",
          "state": {
            "_view_name": "LayoutView",
            "grid_template_rows": null,
            "right": null,
            "justify_content": null,
            "_view_module": "@jupyter-widgets/base",
            "overflow": null,
            "_model_module_version": "1.2.0",
            "_view_count": null,
            "flex_flow": null,
            "width": null,
            "min_width": null,
            "border": null,
            "align_items": null,
            "bottom": null,
            "_model_module": "@jupyter-widgets/base",
            "top": null,
            "grid_column": null,
            "overflow_y": null,
            "overflow_x": null,
            "grid_auto_flow": null,
            "grid_area": null,
            "grid_template_columns": null,
            "flex": null,
            "_model_name": "LayoutModel",
            "justify_items": null,
            "grid_row": null,
            "max_height": null,
            "align_content": null,
            "visibility": null,
            "align_self": null,
            "height": null,
            "min_height": null,
            "padding": null,
            "grid_auto_rows": null,
            "grid_gap": null,
            "max_width": null,
            "order": null,
            "_view_module_version": "1.2.0",
            "grid_template_areas": null,
            "object_position": null,
            "object_fit": null,
            "grid_auto_columns": null,
            "margin": null,
            "display": null,
            "left": null
          }
        },
        "135ed907719f45b9b80e14dc79da1222": {
          "model_module": "@jupyter-widgets/controls",
          "model_name": "ProgressStyleModel",
          "model_module_version": "1.5.0",
          "state": {
            "_view_name": "StyleView",
            "_model_name": "ProgressStyleModel",
            "description_width": "",
            "_view_module": "@jupyter-widgets/base",
            "_model_module_version": "1.5.0",
            "_view_count": null,
            "_view_module_version": "1.2.0",
            "bar_color": null,
            "_model_module": "@jupyter-widgets/controls"
          }
        },
        "27819086560a4128afb8b45e788e8703": {
          "model_module": "@jupyter-widgets/base",
          "model_name": "LayoutModel",
          "model_module_version": "1.2.0",
          "state": {
            "_view_name": "LayoutView",
            "grid_template_rows": null,
            "right": null,
            "justify_content": null,
            "_view_module": "@jupyter-widgets/base",
            "overflow": null,
            "_model_module_version": "1.2.0",
            "_view_count": null,
            "flex_flow": null,
            "width": null,
            "min_width": null,
            "border": null,
            "align_items": null,
            "bottom": null,
            "_model_module": "@jupyter-widgets/base",
            "top": null,
            "grid_column": null,
            "overflow_y": null,
            "overflow_x": null,
            "grid_auto_flow": null,
            "grid_area": null,
            "grid_template_columns": null,
            "flex": null,
            "_model_name": "LayoutModel",
            "justify_items": null,
            "grid_row": null,
            "max_height": null,
            "align_content": null,
            "visibility": null,
            "align_self": null,
            "height": null,
            "min_height": null,
            "padding": null,
            "grid_auto_rows": null,
            "grid_gap": null,
            "max_width": null,
            "order": null,
            "_view_module_version": "1.2.0",
            "grid_template_areas": null,
            "object_position": null,
            "object_fit": null,
            "grid_auto_columns": null,
            "margin": null,
            "display": null,
            "left": null
          }
        },
        "bb8dec8373cf47e08a4d83d5625f2bc0": {
          "model_module": "@jupyter-widgets/controls",
          "model_name": "DescriptionStyleModel",
          "model_module_version": "1.5.0",
          "state": {
            "_view_name": "StyleView",
            "_model_name": "DescriptionStyleModel",
            "description_width": "",
            "_view_module": "@jupyter-widgets/base",
            "_model_module_version": "1.5.0",
            "_view_count": null,
            "_view_module_version": "1.2.0",
            "_model_module": "@jupyter-widgets/controls"
          }
        },
        "a55cd23f547742969a56f5895c9354f9": {
          "model_module": "@jupyter-widgets/base",
          "model_name": "LayoutModel",
          "model_module_version": "1.2.0",
          "state": {
            "_view_name": "LayoutView",
            "grid_template_rows": null,
            "right": null,
            "justify_content": null,
            "_view_module": "@jupyter-widgets/base",
            "overflow": null,
            "_model_module_version": "1.2.0",
            "_view_count": null,
            "flex_flow": null,
            "width": null,
            "min_width": null,
            "border": null,
            "align_items": null,
            "bottom": null,
            "_model_module": "@jupyter-widgets/base",
            "top": null,
            "grid_column": null,
            "overflow_y": null,
            "overflow_x": null,
            "grid_auto_flow": null,
            "grid_area": null,
            "grid_template_columns": null,
            "flex": null,
            "_model_name": "LayoutModel",
            "justify_items": null,
            "grid_row": null,
            "max_height": null,
            "align_content": null,
            "visibility": null,
            "align_self": null,
            "height": null,
            "min_height": null,
            "padding": null,
            "grid_auto_rows": null,
            "grid_gap": null,
            "max_width": null,
            "order": null,
            "_view_module_version": "1.2.0",
            "grid_template_areas": null,
            "object_position": null,
            "object_fit": null,
            "grid_auto_columns": null,
            "margin": null,
            "display": null,
            "left": null
          }
        },
        "e50520d502204be896183c19520d4da8": {
          "model_module": "@jupyter-widgets/controls",
          "model_name": "HBoxModel",
          "model_module_version": "1.5.0",
          "state": {
            "_view_name": "HBoxView",
            "_dom_classes": [],
            "_model_name": "HBoxModel",
            "_view_module": "@jupyter-widgets/controls",
            "_model_module_version": "1.5.0",
            "_view_count": null,
            "_view_module_version": "1.5.0",
            "box_style": "",
            "layout": "IPY_MODEL_7e558d9a0bc34b4e917bffbbe9cb3b55",
            "_model_module": "@jupyter-widgets/controls",
            "children": [
              "IPY_MODEL_0a65fd49b767423d8e6e6f4f97e15382",
              "IPY_MODEL_74e6e98f00e84bc5a10918e4d432b13d",
              "IPY_MODEL_a7fe4c229fc644e483fc3906ec341330"
            ]
          }
        },
        "7e558d9a0bc34b4e917bffbbe9cb3b55": {
          "model_module": "@jupyter-widgets/base",
          "model_name": "LayoutModel",
          "model_module_version": "1.2.0",
          "state": {
            "_view_name": "LayoutView",
            "grid_template_rows": null,
            "right": null,
            "justify_content": null,
            "_view_module": "@jupyter-widgets/base",
            "overflow": null,
            "_model_module_version": "1.2.0",
            "_view_count": null,
            "flex_flow": null,
            "width": null,
            "min_width": null,
            "border": null,
            "align_items": null,
            "bottom": null,
            "_model_module": "@jupyter-widgets/base",
            "top": null,
            "grid_column": null,
            "overflow_y": null,
            "overflow_x": null,
            "grid_auto_flow": null,
            "grid_area": null,
            "grid_template_columns": null,
            "flex": null,
            "_model_name": "LayoutModel",
            "justify_items": null,
            "grid_row": null,
            "max_height": null,
            "align_content": null,
            "visibility": null,
            "align_self": null,
            "height": null,
            "min_height": null,
            "padding": null,
            "grid_auto_rows": null,
            "grid_gap": null,
            "max_width": null,
            "order": null,
            "_view_module_version": "1.2.0",
            "grid_template_areas": null,
            "object_position": null,
            "object_fit": null,
            "grid_auto_columns": null,
            "margin": null,
            "display": null,
            "left": null
          }
        },
        "0a65fd49b767423d8e6e6f4f97e15382": {
          "model_module": "@jupyter-widgets/controls",
          "model_name": "HTMLModel",
          "model_module_version": "1.5.0",
          "state": {
            "_view_name": "HTMLView",
            "style": "IPY_MODEL_aa7c110ed6a64134a1dd3e68008b99db",
            "_dom_classes": [],
            "description": "",
            "_model_name": "HTMLModel",
            "placeholder": "​",
            "_view_module": "@jupyter-widgets/controls",
            "_model_module_version": "1.5.0",
            "value": "100%",
            "_view_count": null,
            "_view_module_version": "1.5.0",
            "description_tooltip": null,
            "_model_module": "@jupyter-widgets/controls",
            "layout": "IPY_MODEL_5a9df78a007041dabbd2e7658193c890"
          }
        },
        "74e6e98f00e84bc5a10918e4d432b13d": {
          "model_module": "@jupyter-widgets/controls",
          "model_name": "FloatProgressModel",
          "model_module_version": "1.5.0",
          "state": {
            "_view_name": "ProgressView",
            "style": "IPY_MODEL_4fa3d4fd27e1489185fc2cd6ebd06453",
            "_dom_classes": [],
            "description": "",
            "_model_name": "FloatProgressModel",
            "bar_style": "success",
            "max": 102530333,
            "_view_module": "@jupyter-widgets/controls",
            "_model_module_version": "1.5.0",
            "value": 102530333,
            "_view_count": null,
            "_view_module_version": "1.5.0",
            "orientation": "horizontal",
            "min": 0,
            "description_tooltip": null,
            "_model_module": "@jupyter-widgets/controls",
            "layout": "IPY_MODEL_412b2acc8a214ebda7680831ca7c0db1"
          }
        },
        "a7fe4c229fc644e483fc3906ec341330": {
          "model_module": "@jupyter-widgets/controls",
          "model_name": "HTMLModel",
          "model_module_version": "1.5.0",
          "state": {
            "_view_name": "HTMLView",
            "style": "IPY_MODEL_2118c10a7e494b1687fd1d1ef4237d20",
            "_dom_classes": [],
            "description": "",
            "_model_name": "HTMLModel",
            "placeholder": "​",
            "_view_module": "@jupyter-widgets/controls",
            "_model_module_version": "1.5.0",
            "value": " 97.8M/97.8M [00:02&lt;00:00, 59.6MB/s]",
            "_view_count": null,
            "_view_module_version": "1.5.0",
            "description_tooltip": null,
            "_model_module": "@jupyter-widgets/controls",
            "layout": "IPY_MODEL_a5817ad7ef304610afe46ad5ba44d5d1"
          }
        },
        "aa7c110ed6a64134a1dd3e68008b99db": {
          "model_module": "@jupyter-widgets/controls",
          "model_name": "DescriptionStyleModel",
          "model_module_version": "1.5.0",
          "state": {
            "_view_name": "StyleView",
            "_model_name": "DescriptionStyleModel",
            "description_width": "",
            "_view_module": "@jupyter-widgets/base",
            "_model_module_version": "1.5.0",
            "_view_count": null,
            "_view_module_version": "1.2.0",
            "_model_module": "@jupyter-widgets/controls"
          }
        },
        "5a9df78a007041dabbd2e7658193c890": {
          "model_module": "@jupyter-widgets/base",
          "model_name": "LayoutModel",
          "model_module_version": "1.2.0",
          "state": {
            "_view_name": "LayoutView",
            "grid_template_rows": null,
            "right": null,
            "justify_content": null,
            "_view_module": "@jupyter-widgets/base",
            "overflow": null,
            "_model_module_version": "1.2.0",
            "_view_count": null,
            "flex_flow": null,
            "width": null,
            "min_width": null,
            "border": null,
            "align_items": null,
            "bottom": null,
            "_model_module": "@jupyter-widgets/base",
            "top": null,
            "grid_column": null,
            "overflow_y": null,
            "overflow_x": null,
            "grid_auto_flow": null,
            "grid_area": null,
            "grid_template_columns": null,
            "flex": null,
            "_model_name": "LayoutModel",
            "justify_items": null,
            "grid_row": null,
            "max_height": null,
            "align_content": null,
            "visibility": null,
            "align_self": null,
            "height": null,
            "min_height": null,
            "padding": null,
            "grid_auto_rows": null,
            "grid_gap": null,
            "max_width": null,
            "order": null,
            "_view_module_version": "1.2.0",
            "grid_template_areas": null,
            "object_position": null,
            "object_fit": null,
            "grid_auto_columns": null,
            "margin": null,
            "display": null,
            "left": null
          }
        },
        "4fa3d4fd27e1489185fc2cd6ebd06453": {
          "model_module": "@jupyter-widgets/controls",
          "model_name": "ProgressStyleModel",
          "model_module_version": "1.5.0",
          "state": {
            "_view_name": "StyleView",
            "_model_name": "ProgressStyleModel",
            "description_width": "",
            "_view_module": "@jupyter-widgets/base",
            "_model_module_version": "1.5.0",
            "_view_count": null,
            "_view_module_version": "1.2.0",
            "bar_color": null,
            "_model_module": "@jupyter-widgets/controls"
          }
        },
        "412b2acc8a214ebda7680831ca7c0db1": {
          "model_module": "@jupyter-widgets/base",
          "model_name": "LayoutModel",
          "model_module_version": "1.2.0",
          "state": {
            "_view_name": "LayoutView",
            "grid_template_rows": null,
            "right": null,
            "justify_content": null,
            "_view_module": "@jupyter-widgets/base",
            "overflow": null,
            "_model_module_version": "1.2.0",
            "_view_count": null,
            "flex_flow": null,
            "width": null,
            "min_width": null,
            "border": null,
            "align_items": null,
            "bottom": null,
            "_model_module": "@jupyter-widgets/base",
            "top": null,
            "grid_column": null,
            "overflow_y": null,
            "overflow_x": null,
            "grid_auto_flow": null,
            "grid_area": null,
            "grid_template_columns": null,
            "flex": null,
            "_model_name": "LayoutModel",
            "justify_items": null,
            "grid_row": null,
            "max_height": null,
            "align_content": null,
            "visibility": null,
            "align_self": null,
            "height": null,
            "min_height": null,
            "padding": null,
            "grid_auto_rows": null,
            "grid_gap": null,
            "max_width": null,
            "order": null,
            "_view_module_version": "1.2.0",
            "grid_template_areas": null,
            "object_position": null,
            "object_fit": null,
            "grid_auto_columns": null,
            "margin": null,
            "display": null,
            "left": null
          }
        },
        "2118c10a7e494b1687fd1d1ef4237d20": {
          "model_module": "@jupyter-widgets/controls",
          "model_name": "DescriptionStyleModel",
          "model_module_version": "1.5.0",
          "state": {
            "_view_name": "StyleView",
            "_model_name": "DescriptionStyleModel",
            "description_width": "",
            "_view_module": "@jupyter-widgets/base",
            "_model_module_version": "1.5.0",
            "_view_count": null,
            "_view_module_version": "1.2.0",
            "_model_module": "@jupyter-widgets/controls"
          }
        },
        "a5817ad7ef304610afe46ad5ba44d5d1": {
          "model_module": "@jupyter-widgets/base",
          "model_name": "LayoutModel",
          "model_module_version": "1.2.0",
          "state": {
            "_view_name": "LayoutView",
            "grid_template_rows": null,
            "right": null,
            "justify_content": null,
            "_view_module": "@jupyter-widgets/base",
            "overflow": null,
            "_model_module_version": "1.2.0",
            "_view_count": null,
            "flex_flow": null,
            "width": null,
            "min_width": null,
            "border": null,
            "align_items": null,
            "bottom": null,
            "_model_module": "@jupyter-widgets/base",
            "top": null,
            "grid_column": null,
            "overflow_y": null,
            "overflow_x": null,
            "grid_auto_flow": null,
            "grid_area": null,
            "grid_template_columns": null,
            "flex": null,
            "_model_name": "LayoutModel",
            "justify_items": null,
            "grid_row": null,
            "max_height": null,
            "align_content": null,
            "visibility": null,
            "align_self": null,
            "height": null,
            "min_height": null,
            "padding": null,
            "grid_auto_rows": null,
            "grid_gap": null,
            "max_width": null,
            "order": null,
            "_view_module_version": "1.2.0",
            "grid_template_areas": null,
            "object_position": null,
            "object_fit": null,
            "grid_auto_columns": null,
            "margin": null,
            "display": null,
            "left": null
          }
        }
      }
    }
  },
  "cells": [
    {
      "cell_type": "code",
      "source": [
        "import PIL\n",
        "import torch\n",
        "import torch.nn as nn\n",
        "import torch.optim as optim\n",
        "import torch.nn.functional as F\n",
        "import torchvision\n",
        "import copy\n",
        "import matplotlib.pyplot as plt\n",
        "import os\n",
        "import time\n",
        "import numpy as np\n",
        "from sklearn.preprocessing import label_binarize\n",
        "from sklearn.metrics import roc_curve, auc,classification_report,confusion_matrix\n",
        "import warnings\n",
        "import random\n",
        "warnings.filterwarnings('ignore')\n",
        "\n"
      ],
      "metadata": {
        "id": "JkBgPwLrjKd4"
      },
      "execution_count": null,
      "outputs": []
    },
    {
      "cell_type": "code",
      "source": [
        "#--------------------------------------------------Optimizations-------------------------------------------\n",
        "\n",
        "from torchvision.transforms.transforms import Resize\n",
        "config = dict(\n",
        "    DATA_PATH = \"stl10_pytorch/\",\n",
        "    lr = 0.001,\n",
        "    EPOCHS = 10,\n",
        "    BATCH_SIZE = 32,\n",
        "    IMAGE_SIZE = 128,\n",
        "    pin_memory = True,\n",
        "    num_workers = 2,\n",
        "    SEED = 42,\n",
        "    GPU_ID=0,\n",
        ")\n",
        "device = torch.device(f'cuda:{config[\"GPU_ID\"]}' if torch.cuda.is_available() else 'cpu')\n",
        "print(device)\n",
        "\n",
        "config['DEVICE'] = device\n",
        "\n",
        "torch.manual_seed(config['SEED'])\n",
        "torch.cuda.manual_seed(config['SEED'])\n",
        "\n",
        "\n",
        "transformations = {\n",
        "  'general':torchvision.transforms.Compose([\n",
        "          torchvision.transforms.Resize((config['IMAGE_SIZE'],config['IMAGE_SIZE'])),\n",
        "          torchvision.transforms.ToTensor(),\n",
        "          torchvision.transforms.Normalize([0.485, 0.456, 0.406], [0.229, 0.224, 0.225])\n",
        "  ]),\n",
        "  'train':torchvision.transforms.Compose([\n",
        "          torchvision.transforms.Normalize([0.485, 0.456, 0.406], [0.229, 0.224, 0.225])\n",
        "  ]),\n",
        "  'val':torchvision.transforms.Compose([\n",
        "          torchvision.transforms.Normalize([0.485, 0.456, 0.406], [0.229, 0.224, 0.225])\n",
        "  ]),\n",
        "  'test':torchvision.transforms.Compose([\n",
        "          torchvision.transforms.Normalize([0.485, 0.456, 0.406], [0.229, 0.224, 0.225])\n",
        "  ]),\n",
        "}\n",
        "\n",
        "os.environ[\"CUDA_DEVICE_ORDER\"]=\"PCI_BUS_ID\"  \n",
        "# os.environ[\"CUDA_VISIBLE_DEVICES\"]=\"2\"\n",
        "\n",
        "torch.backends.cudnn.benchmarks = True\n",
        "torch.backends.cudnn.deterministic = True\n",
        "torch.backends.cuda.matmul.allow_tf32 = True\n",
        "torch.backends.cudnn.allow_tf32 = True\n"
      ],
      "metadata": {
        "colab": {
          "base_uri": "https://localhost:8080/"
        },
        "id": "0G-YZhQJjLtH",
        "outputId": "05e757ee-c3e4-4a69-9383-12a3e9aaa384"
      },
      "execution_count": null,
      "outputs": [
        {
          "output_type": "stream",
          "name": "stdout",
          "text": [
            "cuda:0\n"
          ]
        }
      ]
    },
    {
      "cell_type": "code",
      "source": [
        "#--------------------------------------------------LoadData-------------------------------------------\n",
        "# get the dataset\n",
        "traindata = torchvision.datasets.STL10(root=config['DATA_PATH'],split='train',download=True,transform = transformations['general'])\n",
        "testdata = torchvision.datasets.STL10(root=config['DATA_PATH'],split='test',download=True,transform = transformations['general'])\n",
        "print('train samples -> ',len(traindata))\n",
        "print('test samples ->', len(testdata))\n",
        "\n",
        "\n",
        "train_loader = torch.utils.data.DataLoader(dataset=traindata,batch_size=config['BATCH_SIZE'],shuffle=True,num_workers=config['num_workers'],pin_memory=config['pin_memory'])\n",
        "test_loader = torch.utils.data.DataLoader(dataset=testdata,batch_size=config['BATCH_SIZE'],shuffle=True,num_workers=config['num_workers'],pin_memory=config['pin_memory'])\n",
        "\n",
        "# data,target = next(iter(train_loader))\n",
        "# print(target)\n",
        "\n",
        "# plt.imshow(data[0][0])\n",
        "# plt.savefig('visual_curves/seeimg.svg',format='svg')"
      ],
      "metadata": {
        "colab": {
          "base_uri": "https://localhost:8080/",
          "height": 136,
          "referenced_widgets": [
            "2463cf82982a4b5faaeee2ef96bddf4b",
            "522bf6541b2947a1a5852083e91a3374",
            "b7d747cd94894e6cb9a85037287d32a8",
            "e07bdba1752d4f53813ab68c6dff5a0f",
            "b61d8e2053c1412bbfc02b82a6981a08",
            "379f37c8991048fba932106e8cb0c7ae",
            "95b7b8ee48fc4cfc8672e8864b810a88",
            "135ed907719f45b9b80e14dc79da1222",
            "27819086560a4128afb8b45e788e8703",
            "bb8dec8373cf47e08a4d83d5625f2bc0",
            "a55cd23f547742969a56f5895c9354f9"
          ]
        },
        "id": "aZKbn57FjLvk",
        "outputId": "917ddcf6-e1bf-4490-def6-bb2d9900aaf6"
      },
      "execution_count": null,
      "outputs": [
        {
          "output_type": "stream",
          "name": "stdout",
          "text": [
            "Downloading http://ai.stanford.edu/~acoates/stl10/stl10_binary.tar.gz to stl10_pytorch/stl10_binary.tar.gz\n"
          ]
        },
        {
          "output_type": "display_data",
          "data": {
            "application/vnd.jupyter.widget-view+json": {
              "model_id": "2463cf82982a4b5faaeee2ef96bddf4b",
              "version_minor": 0,
              "version_major": 2
            },
            "text/plain": [
              "  0%|          | 0/2640397119 [00:00<?, ?it/s]"
            ]
          },
          "metadata": {}
        },
        {
          "output_type": "stream",
          "name": "stdout",
          "text": [
            "Extracting stl10_pytorch/stl10_binary.tar.gz to stl10_pytorch/\n",
            "Files already downloaded and verified\n",
            "train samples ->  5000\n",
            "test samples -> 8000\n"
          ]
        }
      ]
    },
    {
      "cell_type": "code",
      "source": [
        "def confusion_mat(y_true,predicted_prob):\n",
        "  y_pred = np.argmax(predicted_prob,axis=1)\n",
        "  y_true = np.array(y_true)\n",
        "\n",
        "  values,unique = np.unique(y_true,return_counts=True)\n",
        "  cm = np.zeros((len(values),len(values)))\n",
        "  for idx,t in enumerate(y_true):\n",
        "    p = y_pred[idx]\n",
        "    cm[t][int(p)] += 1\n",
        "  return cm\n",
        "\n",
        "def measures(y_true,y_pred):\n",
        "  y_true = np.array(y_true)\n",
        "  y_pred = np.array(y_pred)\n",
        "  unique_values = np.unique(y_true)\n",
        "  cm = np.zeros((len(unique_values),len(unique_values)))\n",
        "  for i in range(len(y_true)):\n",
        "    t = y_true[i]\n",
        "    p = y_pred[i]\n",
        "    cm[int(t)][int(p)] += 1\n",
        "  measure = np.divide(cm.T,np.sum(cm,axis=1)).T\n",
        "  return measure[0][1],measure[1][1]\n",
        "\n",
        "def get_fpr_tpr(ytrue_onehot,prob):\n",
        "  partitions = 100\n",
        "  fpr_arr = []\n",
        "  tpr_arr = []\n",
        "  for i in range(partitions+1):\n",
        "    th_pred = np.greater_equal(prob,i/partitions).astype(np.int32)\n",
        "    fpr,tpr = measures(ytrue_onehot,th_pred)\n",
        "    fpr_arr.append(fpr)\n",
        "    tpr_arr.append(tpr)\n",
        "  return fpr_arr,tpr_arr\n",
        "\n",
        "def roc(y_true,predicted_prob):\n",
        "  y_true = np.array(y_true)\n",
        "  unique_values = np.unique(y_true)\n",
        "  onehot_ytrue = np.zeros((len(y_true),len(unique_values)))\n",
        "  for idx,value in enumerate(y_true):\n",
        "    onehot_ytrue[idx][int(value)] = 1\n",
        "\n",
        "  fpr_tpr = {}\n",
        "  for i in range(len(unique_values)):\n",
        "    fpr,tpr = get_fpr_tpr(onehot_ytrue[:,i],predicted_prob[:,i])\n",
        "    fpr_tpr[i] = [fpr,tpr]\n",
        "\n",
        "  plt.figure(figsize=(5,4))  \n",
        "  for i in range(len(unique_values)):\n",
        "    fpr,tpr = fpr_tpr[i]\n",
        "    plt.plot(fpr,tpr,label=f'class:{i}')\n",
        "\n",
        "  plt.xlabel('fpr')\n",
        "  plt.ylabel('tpr')\n",
        "  plt.title('ROC')\n",
        "  plt.legend()\n",
        "  plt.savefig('/content/ROC_que2.svg',format='svg')\n",
        "  plt.show()\n",
        "\n",
        "def class_wise_accuracy(cm):\n",
        "  cwa = np.sum(cm,axis=1)\n",
        "  return np.diagonal(np.divide(cm.T,cwa).T)\n",
        "\n",
        "def getparams(model):\n",
        "    total_parameters = 0\n",
        "    for name,parameter in model.named_parameters():\n",
        "        if not parameter.requires_grad:\n",
        "            continue\n",
        "        param = parameter.numel()\n",
        "        total_parameters += param\n",
        "    print(f\"total_trainable_parameters are : {total_parameters}\")\n",
        "\n",
        "def train(model,train_load,lossfunction,optimizer,n_epochs=200):\n",
        "    tval = {'trainacc':[],\"trainloss\":[]}\n",
        "    starttime = time.time()\n",
        "    for epochs in range(n_epochs):\n",
        "        model.train()\n",
        "        cur_loss = 0\n",
        "        curacc = 0\n",
        "        len_train = len(train_load)\n",
        "        for idx , (data,target) in enumerate(train_load):\n",
        "            data = transformations['train'](data)    \n",
        "            data = data.to(device)\n",
        "            target = target.to(device)\n",
        "            # model = model.to(device)\n",
        "\n",
        "            scores = model(data)    \n",
        "            loss = lossfunction(scores,target)\n",
        "            cur_loss += loss.item() / (len_train)\n",
        "            scores = F.softmax(scores,dim = 1)\n",
        "            _,predicted = torch.max(scores,dim = 1)\n",
        "            correct = (predicted == target).sum()\n",
        "            samples = scores.shape[0]\n",
        "            curacc += correct / (samples * len_train)\n",
        "\n",
        "            optimizer.zero_grad()\n",
        "            loss.backward()\n",
        "            optimizer.step()\n",
        "\n",
        "            print('TrainBatchDone:{:d}'.format(idx),end='\\r') \n",
        "  \n",
        "        tval['trainacc'].append(float(curacc))\n",
        "        tval['trainloss'].append(float(cur_loss))\n",
        "      \n",
        "        print('epoch:[{:d}/{:d}], TrainAcc:{:.3f}, TrainLoss:{:.3f}'.format(epochs+1,n_epochs,curacc,cur_loss)) \n",
        "\n",
        "    time2 = time.time() - starttime\n",
        "    print('done time {:.3f} Mins'.format(time2/60))\n",
        "    return tval\n",
        "\n",
        "def loss_acc_curve(tval):\n",
        "  plt.figure(figsize=(5,4))\n",
        "  plt.plot(list(range(1,config['EPOCHS']+1)),tval['trainloss'],label='loss')\n",
        "  plt.plot(list(range(1,config['EPOCHS']+1)),tval['trainacc'],label='accuracy')\n",
        "  plt.xlabel('epochs')\n",
        "  plt.ylabel('loss/accuracy')\n",
        "  plt.title('loss_accuracy_curve')\n",
        "  plt.legend()\n",
        "  plt.savefig('loss_acc.svg',format='svg')\n",
        "  plt.show()\n",
        "\n",
        "def evaluate(model,loader,name='test'):\n",
        "    model.eval()\n",
        "    correct = 0;samples =0\n",
        "    fpr_tpr_auc = {}\n",
        "    pre_prob = []\n",
        "    lab = []\n",
        "    predicted_labels = []\n",
        "\n",
        "    with torch.no_grad():\n",
        "        for idx,(x,y) in enumerate(loader):\n",
        "            x = transformations['test'](x)\n",
        "            x = x.to(device)\n",
        "            y = y.to(device)\n",
        "            # model = model.to(device)\n",
        "\n",
        "            scores = model(x)\n",
        "            predict_prob = F.softmax(scores)\n",
        "            _,predictions = predict_prob.max(1)\n",
        "\n",
        "            predictions = predictions.to('cpu')\n",
        "            y = y.to('cpu')\n",
        "            predict_prob = predict_prob.to('cpu')\n",
        "\n",
        "            predicted_labels.extend(list(predictions.numpy()))\n",
        "            pre_prob.extend(list(predict_prob.numpy()))\n",
        "            lab.extend(list(y.numpy()))\n",
        "\n",
        "            correct += (predictions == y).sum()\n",
        "            samples += predictions.size(0)\n",
        "\n",
        "            print('batches done : ',idx,end='\\r')\n",
        "\n",
        "        print('correct are {:.2f}'.format(correct/samples))\n",
        "      \n",
        "    model.train()\n",
        "    accuracy = correct/samples\n",
        "    return accuracy,lab,np.array(pre_prob)\n",
        "\n"
      ],
      "metadata": {
        "id": "BuCrdW5VjLx4"
      },
      "execution_count": null,
      "outputs": []
    },
    {
      "cell_type": "code",
      "execution_count": null,
      "metadata": {
        "colab": {
          "base_uri": "https://localhost:8080/",
          "height": 362,
          "referenced_widgets": [
            "e50520d502204be896183c19520d4da8",
            "7e558d9a0bc34b4e917bffbbe9cb3b55",
            "0a65fd49b767423d8e6e6f4f97e15382",
            "74e6e98f00e84bc5a10918e4d432b13d",
            "a7fe4c229fc644e483fc3906ec341330",
            "aa7c110ed6a64134a1dd3e68008b99db",
            "5a9df78a007041dabbd2e7658193c890",
            "4fa3d4fd27e1489185fc2cd6ebd06453",
            "412b2acc8a214ebda7680831ca7c0db1",
            "2118c10a7e494b1687fd1d1ef4237d20",
            "a5817ad7ef304610afe46ad5ba44d5d1"
          ]
        },
        "id": "e_ZxyvZrigoL",
        "outputId": "ac2b18e1-6ff2-4855-e003-9738e850adf8"
      },
      "outputs": [
        {
          "output_type": "stream",
          "name": "stderr",
          "text": [
            "Downloading: \"https://download.pytorch.org/models/resnet50-0676ba61.pth\" to /root/.cache/torch/hub/checkpoints/resnet50-0676ba61.pth\n"
          ]
        },
        {
          "output_type": "display_data",
          "data": {
            "application/vnd.jupyter.widget-view+json": {
              "model_id": "e50520d502204be896183c19520d4da8",
              "version_minor": 0,
              "version_major": 2
            },
            "text/plain": [
              "  0%|          | 0.00/97.8M [00:00<?, ?B/s]"
            ]
          },
          "metadata": {}
        },
        {
          "output_type": "stream",
          "name": "stdout",
          "text": [
            "total_trainable_parameters are : 23528522\n",
            "total_trainable_parameters are : 1073162\n",
            "before fine tuning\n",
            "correct are 0.09\n",
            "tensor(0.0892)\n",
            "[[102. 253.   3.   0. 355.   0.   0.   0.  87.   0.]\n",
            " [ 96. 241.   4.   1. 404.   0.   0.   0.  54.   0.]\n",
            " [321. 279.   0.   0. 192.   0.   0.   0.   8.   0.]\n",
            " [173. 273.   0.   0. 295.   0.   0.   0.  59.   0.]\n",
            " [ 97. 341.   1.   0. 291.   0.   0.   0.  70.   0.]\n",
            " [130. 191.   3.   0. 397.   0.   0.   0.  79.   0.]\n",
            " [223. 117.   1.   0. 415.   0.   0.   0.  44.   0.]\n",
            " [155. 199.   2.   0. 373.   0.   0.   0.  71.   0.]\n",
            " [ 89. 368.   1.   0. 262.   0.   0.   0.  80.   0.]\n",
            " [248. 303.   0.   0. 225.   0.   0.   0.  24.   0.]]\n",
            "class wise accuracy [0.1275  0.30125 0.      0.      0.36375 0.      0.      0.      0.1\n",
            " 0.     ]\n"
          ]
        }
      ],
      "source": [
        "torchmodel = torchvision.models.resnet50(pretrained=True)\n",
        "torchmodel.fc = nn.Linear(in_features=2048,out_features=10)\n",
        "# print(torchmodel)\n",
        "torchmodel = torchmodel.to(device)\n",
        "getparams(torchmodel)\n",
        "for name,parameter in torchmodel.named_parameters():\n",
        "  # print(name)\n",
        "  if name == 'layer4.2.conv3.weight':\n",
        "    break\n",
        "  parameter.requires_grad=False\n",
        "getparams(torchmodel)\n",
        "\n",
        "print('before fine tuning')\n",
        "test_acc,y_true,predicted_prob = evaluate(torchmodel,test_loader,name='test')\n",
        "print(test_acc)\n",
        "cm = confusion_mat(y_true,predicted_prob)\n",
        "print(cm)\n",
        "print('class wise accuracy',class_wise_accuracy(cm))"
      ]
    },
    {
      "cell_type": "code",
      "source": [
        "lossfunction = nn.CrossEntropyLoss()\n",
        "optimizer = optim.Adam(params=torchmodel.parameters(),lr=config['lr'])\n",
        "\n",
        "history1 = train(torchmodel,train_loader,lossfunction,optimizer,n_epochs=config['EPOCHS'])"
      ],
      "metadata": {
        "colab": {
          "base_uri": "https://localhost:8080/"
        },
        "id": "hEtdVdctrEyM",
        "outputId": "2ba3bea8-fa26-462c-b5a3-f6fa8a1b5d70"
      },
      "execution_count": null,
      "outputs": [
        {
          "output_type": "stream",
          "name": "stdout",
          "text": [
            "epoch:[1/10], TrainAcc:0.848, TrainLoss:0.461\n",
            "epoch:[2/10], TrainAcc:0.915, TrainLoss:0.243\n",
            "epoch:[3/10], TrainAcc:0.923, TrainLoss:0.215\n",
            "epoch:[4/10], TrainAcc:0.935, TrainLoss:0.182\n",
            "epoch:[5/10], TrainAcc:0.950, TrainLoss:0.148\n",
            "epoch:[6/10], TrainAcc:0.952, TrainLoss:0.131\n",
            "epoch:[7/10], TrainAcc:0.959, TrainLoss:0.121\n",
            "epoch:[8/10], TrainAcc:0.971, TrainLoss:0.085\n",
            "epoch:[9/10], TrainAcc:0.970, TrainLoss:0.088\n",
            "epoch:[10/10], TrainAcc:0.972, TrainLoss:0.079\n",
            "done time 2.484 Mins\n"
          ]
        }
      ]
    },
    {
      "cell_type": "code",
      "source": [
        "loss_acc_curve(history1)"
      ],
      "metadata": {
        "colab": {
          "base_uri": "https://localhost:8080/",
          "height": 295
        },
        "id": "EafPNQO9vVEa",
        "outputId": "ada0cb6d-cfd2-4eab-ad39-943401300879"
      },
      "execution_count": null,
      "outputs": [
        {
          "output_type": "display_data",
          "data": {
            "image/png": "[encoded data removed]",
            "text/plain": [
              "<Figure size 360x288 with 1 Axes>"
            ]
          },
          "metadata": {
            "needs_background": "light"
          }
        }
      ]
    },
    {
      "cell_type": "code",
      "source": [
        "print('after fine tuning')\n",
        "test_acc,y_true,predicted_prob = evaluate(torchmodel,test_loader,name='test')\n",
        "print(test_acc)"
      ],
      "metadata": {
        "colab": {
          "base_uri": "https://localhost:8080/"
        },
        "id": "aWEXdvJYyCW9",
        "outputId": "b9d77cca-4f32-4eb9-9670-218173f1f5a7"
      },
      "execution_count": null,
      "outputs": [
        {
          "output_type": "stream",
          "name": "stdout",
          "text": [
            "after fine tuning\n",
            "correct are 0.90\n",
            "tensor(0.9047)\n"
          ]
        }
      ]
    },
    {
      "cell_type": "code",
      "source": [
        "cm = confusion_mat(y_true,predicted_prob)\n",
        "print(cm)\n",
        "print('class wise accuracy',class_wise_accuracy(cm))"
      ],
      "metadata": {
        "colab": {
          "base_uri": "https://localhost:8080/"
        },
        "id": "vdNBFuKby4Cq",
        "outputId": "bd8830ff-d431-416a-82c9-72bf122fcfbe"
      },
      "execution_count": null,
      "outputs": [
        {
          "output_type": "stream",
          "name": "stdout",
          "text": [
            "[[737.   5.   4.   5.   1.   0.   3.   1.  28.  16.]\n",
            " [  6. 728.   0.  27.   8.   9.   5.  17.   0.   0.]\n",
            " [ 10.   1. 754.   3.   1.   4.   1.   0.   1.  25.]\n",
            " [  0.   5.   2. 688.  20.  55.   5.  25.   0.   0.]\n",
            " [  3.   9.   2.  41. 674.  23.  36.  11.   1.   0.]\n",
            " [  0.   2.   1.  38.   4. 714.  23.  17.   1.   0.]\n",
            " [  2.   4.   2.  10.  11.  34. 722.   9.   0.   6.]\n",
            " [  0.  13.   1.  13.  11.   6.   1. 755.   0.   0.]\n",
            " [ 28.   0.   1.   2.   0.   1.   0.   1. 739.  28.]\n",
            " [ 19.   0.  27.   2.   0.   1.   0.   2.  22. 727.]]\n",
            "class wise accuracy [0.92125 0.91    0.9425  0.86    0.8425  0.8925  0.9025  0.94375 0.92375\n",
            " 0.90875]\n"
          ]
        }
      ]
    },
    {
      "cell_type": "code",
      "source": [
        "roc(y_true,predicted_prob)"
      ],
      "metadata": {
        "colab": {
          "base_uri": "https://localhost:8080/",
          "height": 295
        },
        "id": "cElaTKkLzJba",
        "outputId": "b8758f6e-06a6-495f-ede7-8e2b8098fb7d"
      },
      "execution_count": null,
      "outputs": [
        {
          "output_type": "display_data",
          "data": {
            "image/png": "[encoded data removed]",
            "text/plain": [
              "<Figure size 360x288 with 1 Axes>"
            ]
          },
          "metadata": {
            "needs_background": "light"
          }
        }
      ]
    },
    {
      "cell_type": "code",
      "source": [
        ""
      ],
      "metadata": {
        "id": "vr-hKs3zzVBd"
      },
      "execution_count": null,
      "outputs": []
    }
  ]
}