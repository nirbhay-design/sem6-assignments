{
 "cells": [
  {
   "cell_type": "code",
   "execution_count": 52,
   "metadata": {},
   "outputs": [
    {
     "name": "stdout",
     "output_type": "stream",
     "text": [
      "done 99999\r"
     ]
    }
   ],
   "source": [
    "import random\n",
    "from collections import Counter\n",
    "\n",
    "\n",
    "def ksa(key):\n",
    "    s = []\n",
    "    for i in range(0,256):\n",
    "        s.append(i)\n",
    "    j = 0\n",
    "    for i in range(0,256):\n",
    "        j = (j + s[i] + key[i % len(key)]) % 256\n",
    "        s[i],s[j] = s[j], s[i]\n",
    "    return s\n",
    "\n",
    "def prga(s):\n",
    "    # print(s)\n",
    "    i = 0;j = 0\n",
    "    key = []\n",
    "    while (i < 10):\n",
    "        i = (i + 1) % 256\n",
    "        j = (j + s[i]) % 256\n",
    "        s[i], s[j] = s[j], s[i]\n",
    "        t = (s[i] + s[j]) % 256\n",
    "        keystreambyte = s[t]\n",
    "        key.append(keystreambyte)\n",
    "    return key\n",
    "\n",
    "def randomkeygen(n):\n",
    "    ky = []\n",
    "    for i in range(n):\n",
    "        ky.append(random.randint(0,100000))\n",
    "    return ky\n",
    "# print(ksa(3,'101001000001'))\n",
    "# print(ksa(4,'101001000001'))\n",
    "# print(prga())\n",
    "\n",
    "# key = prga()\n",
    "secondbyte = []\n",
    "for i in range(100000):\n",
    "    print(f'done {i}',end= '\\r')\n",
    "    # n = random.randint(1,255) \n",
    "    n = 6\n",
    "    k = randomkeygen(n)\n",
    "    s = ksa(k)\n",
    "    key = prga(s)\n",
    "    secondbyte.append(key[1])\n",
    "\n",
    "a = Counter(secondbyte)"
   ]
  },
  {
   "cell_type": "code",
   "execution_count": 53,
   "metadata": {},
   "outputs": [
    {
     "data": {
      "text/plain": [
       "0.00791"
      ]
     },
     "execution_count": 53,
     "metadata": {},
     "output_type": "execute_result"
    }
   ],
   "source": [
    "a[0]/sum(a.values())"
   ]
  },
  {
   "cell_type": "code",
   "execution_count": 59,
   "metadata": {},
   "outputs": [
    {
     "data": {
      "image/png": "[encoded data removed]",
      "text/plain": [
       "<Figure size 720x720 with 1 Axes>"
      ]
     },
     "metadata": {
      "needs_background": "light"
     },
     "output_type": "display_data"
    }
   ],
   "source": [
    "import matplotlib.pyplot as plt\n",
    "keys = a.keys();\n",
    "values = a.values();\n",
    "\n",
    "plt.figure(figsize=(10,10))\n",
    "plt.scatter(keys,values)\n",
    "plt.show()"
   ]
  },
  {
   "cell_type": "code",
   "execution_count": 73,
   "metadata": {},
   "outputs": [],
   "source": [
    "import random\n",
    "from collections import Counter\n",
    "\n",
    "\n",
    "def ksa(key):\n",
    "    s = []\n",
    "    for i in range(0,256):\n",
    "        s.append(i)\n",
    "    j = 0\n",
    "    for i in range(0,256):\n",
    "        j = (j + s[i] + key[i % len(key)]) % 256\n",
    "        s[i],s[j] = s[j], s[i]\n",
    "    return s\n",
    "\n",
    "def prga(s):\n",
    "    # print(s)\n",
    "    i = 0;j = 0\n",
    "    key = []\n",
    "    while (i < 30):\n",
    "        i = (i + 1) % 256\n",
    "        j = (j + s[i]) % 256\n",
    "        s[i], s[j] = s[j], s[i]\n",
    "        t = (s[i] + s[j]) % 256\n",
    "        keystreambyte = s[t]\n",
    "        key.append(keystreambyte)\n",
    "    return key\n",
    "\n",
    "def randomkeygen(n):\n",
    "    ky = []\n",
    "    for i in range(n):\n",
    "        ky.append(random.randint(0,100000))\n",
    "    return ky\n"
   ]
  },
  {
   "cell_type": "code",
   "execution_count": 74,
   "metadata": {},
   "outputs": [
    {
     "name": "stdout",
     "output_type": "stream",
     "text": [
      "done 99999\r"
     ]
    }
   ],
   "source": [
    "allbyte = []\n",
    "for i in range(100000):\n",
    "    print(f'done {i}',end= '\\r')\n",
    "    n = 6\n",
    "    k = randomkeygen(n)\n",
    "    s = ksa(k)\n",
    "    key = prga(s)\n",
    "    allbyte.append(key)\n"
   ]
  },
  {
   "cell_type": "code",
   "execution_count": 76,
   "metadata": {},
   "outputs": [],
   "source": [
    "mymp = {i:[] for i in range(1,31)}\n",
    "for i in range(len(allbyte)):\n",
    "    for j in range(len(allbyte[i])):\n",
    "        mymp[j+1].append(allbyte[i][j])\n",
    "\n",
    "\n",
    "baistuple = []\n",
    "\n",
    "for i in range(1,31):\n",
    "    d = Counter(mymp[i])\n",
    "    p = sorted(d.items(),key=lambda x:x[1],reverse = True)\n",
    "    baistuple.append(p[:3])\n",
    "\n",
    "# for i in range(len(baistuple)):\n",
    "#     for j in range(len(baistuple[i])):\n",
    "#         baistuple[i][j][1] /= 100000"
   ]
  },
  {
   "cell_type": "code",
   "execution_count": 84,
   "metadata": {},
   "outputs": [
    {
     "data": {
      "text/plain": [
       "[[0, 213, 453],\n",
       " [1, 0, 840],\n",
       " [2, 22, 457],\n",
       " [3, 93, 442],\n",
       " [4, 60, 455],\n",
       " [5, 10, 439],\n",
       " [6, 64, 450],\n",
       " [7, 68, 437],\n",
       " [8, 116, 448],\n",
       " [9, 66, 437],\n",
       " [10, 222, 438],\n",
       " [11, 188, 444],\n",
       " [12, 185, 454],\n",
       " [13, 126, 448],\n",
       " [14, 6, 449],\n",
       " [15, 35, 454],\n",
       " [16, 37, 446],\n",
       " [17, 76, 459],\n",
       " [18, 150, 447],\n",
       " [19, 128, 448],\n",
       " [20, 125, 433],\n",
       " [21, 104, 455],\n",
       " [22, 17, 448],\n",
       " [23, 132, 444],\n",
       " [24, 179, 443],\n",
       " [25, 178, 454],\n",
       " [26, 63, 452],\n",
       " [27, 194, 451],\n",
       " [28, 124, 447],\n",
       " [29, 222, 460]]"
      ]
     },
     "execution_count": 84,
     "metadata": {},
     "output_type": "execute_result"
    }
   ],
   "source": [
    "\n",
    "der = []\n",
    "\n",
    "for idx,value in enumerate(baistuple):\n",
    "    der.append([idx]+list(value[0]))\n",
    "# with open('f.txt','r') as f:\n",
    "#     data = list(map(int,f.read().split()))\n",
    "# data\n",
    "# plt.scatter([i for i in range(256)] , data)\n",
    "# plt.show() \n",
    "der[:30]"
   ]
  },
  {
   "cell_type": "code",
   "execution_count": 85,
   "metadata": {},
   "outputs": [
    {
     "data": {
      "text/plain": [
       "[[1, 0, 840], [29, 222, 460], [17, 76, 459], [2, 22, 457], [4, 60, 455]]"
      ]
     },
     "execution_count": 85,
     "metadata": {},
     "output_type": "execute_result"
    }
   ],
   "source": [
    "per = sorted(der,key=lambda x:x[2],reverse = True)\n",
    "per[:5]"
   ]
  },
  {
   "cell_type": "code",
   "execution_count": null,
   "metadata": {},
   "outputs": [],
   "source": []
  }
 ],
 "metadata": {
  "interpreter": {
   "hash": "3fa5dbfa8cbdaf171cbd536d39ad63a42c41065fa50f0a4cf91190e3a507eecd"
  },
  "kernelspec": {
   "display_name": "Python 3.9.0 64-bit",
   "language": "python",
   "name": "python3"
  },
  "language_info": {
   "codemirror_mode": {
    "name": "ipython",
    "version": 3
   },
   "file_extension": ".py",
   "mimetype": "text/x-python",
   "name": "python",
   "nbconvert_exporter": "python",
   "pygments_lexer": "ipython3",
   "version": "3.9.0"
  },
  "orig_nbformat": 4
 },
 "nbformat": 4,
 "nbformat_minor": 2
}
